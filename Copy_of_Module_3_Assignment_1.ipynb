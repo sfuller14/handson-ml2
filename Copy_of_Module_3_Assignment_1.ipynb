{
  "nbformat": 4,
  "nbformat_minor": 0,
  "metadata": {
    "colab": {
      "provenance": [],
      "collapsed_sections": [
        "uC_xiM8wVLt6",
        "HKx-IeSW7E1Q",
        "9xpo5R-17E1R",
        "dDldYTef7E1S",
        "nRyOv-3V7E1Y",
        "qzLQzvk87E1b"
      ],
      "include_colab_link": true
    },
    "kernelspec": {
      "name": "python3",
      "display_name": "Python 3"
    },
    "language_info": {
      "name": "python"
    }
  },
  "cells": [
    {
      "cell_type": "markdown",
      "metadata": {
        "id": "view-in-github",
        "colab_type": "text"
      },
      "source": [
        "<a href=\"https://colab.research.google.com/github/sfuller14/handson-ml2/blob/master/Copy_of_Module_3_Assignment_1.ipynb\" target=\"_parent\"><img src=\"https://colab.research.google.com/assets/colab-badge.svg\" alt=\"Open In Colab\"/></a>"
      ]
    },
    {
      "cell_type": "markdown",
      "source": [
        "# **MODULE 3**\n",
        "(Build on last week's work.)"
      ],
      "metadata": {
        "id": "NNhql2kd66-Z"
      }
    },
    {
      "cell_type": "code",
      "execution_count": 1,
      "metadata": {
        "id": "YqTobuIPVc6Q",
        "colab": {
          "base_uri": "https://localhost:8080/"
        },
        "outputId": "78ae4875-1dbf-4020-ed96-ab57f88dbd11"
      },
      "outputs": [
        {
          "output_type": "stream",
          "name": "stdout",
          "text": [
            "Looking in indexes: https://pypi.org/simple, https://us-python.pkg.dev/colab-wheels/public/simple/\n",
            "Requirement already satisfied: mlinsights in /usr/local/lib/python3.7/dist-packages (0.3.649)\n",
            "Requirement already satisfied: cython in /usr/local/lib/python3.7/dist-packages (from mlinsights) (0.29.32)\n",
            "Requirement already satisfied: pandas-streaming in /usr/local/lib/python3.7/dist-packages (from mlinsights) (0.3.218)\n",
            "Requirement already satisfied: scipy in /usr/local/lib/python3.7/dist-packages (from mlinsights) (1.7.3)\n",
            "Requirement already satisfied: pandas in /usr/local/lib/python3.7/dist-packages (from mlinsights) (1.3.5)\n",
            "Requirement already satisfied: numpy>=1.16 in /usr/local/lib/python3.7/dist-packages (from mlinsights) (1.21.6)\n",
            "Requirement already satisfied: matplotlib in /usr/local/lib/python3.7/dist-packages (from mlinsights) (3.2.2)\n",
            "Requirement already satisfied: scikit-learn>=1.0 in /usr/local/lib/python3.7/dist-packages (from mlinsights) (1.0.2)\n",
            "Requirement already satisfied: threadpoolctl>=2.0.0 in /usr/local/lib/python3.7/dist-packages (from scikit-learn>=1.0->mlinsights) (3.1.0)\n",
            "Requirement already satisfied: joblib>=0.11 in /usr/local/lib/python3.7/dist-packages (from scikit-learn>=1.0->mlinsights) (1.2.0)\n",
            "Requirement already satisfied: cycler>=0.10 in /usr/local/lib/python3.7/dist-packages (from matplotlib->mlinsights) (0.11.0)\n",
            "Requirement already satisfied: python-dateutil>=2.1 in /usr/local/lib/python3.7/dist-packages (from matplotlib->mlinsights) (2.8.2)\n",
            "Requirement already satisfied: kiwisolver>=1.0.1 in /usr/local/lib/python3.7/dist-packages (from matplotlib->mlinsights) (1.4.4)\n",
            "Requirement already satisfied: pyparsing!=2.0.4,!=2.1.2,!=2.1.6,>=2.0.1 in /usr/local/lib/python3.7/dist-packages (from matplotlib->mlinsights) (3.0.9)\n",
            "Requirement already satisfied: typing-extensions in /usr/local/lib/python3.7/dist-packages (from kiwisolver>=1.0.1->matplotlib->mlinsights) (4.1.1)\n",
            "Requirement already satisfied: six>=1.5 in /usr/local/lib/python3.7/dist-packages (from python-dateutil>=2.1->matplotlib->mlinsights) (1.15.0)\n",
            "Requirement already satisfied: pytz>=2017.3 in /usr/local/lib/python3.7/dist-packages (from pandas->mlinsights) (2022.4)\n",
            "Requirement already satisfied: ijson in /usr/local/lib/python3.7/dist-packages (from pandas-streaming->mlinsights) (3.1.4)\n",
            "Looking in indexes: https://pypi.org/simple, https://us-python.pkg.dev/colab-wheels/public/simple/\n",
            "Requirement already satisfied: pingouin in /usr/local/lib/python3.7/dist-packages (0.5.2)\n",
            "Requirement already satisfied: pandas>=1.0 in /usr/local/lib/python3.7/dist-packages (from pingouin) (1.3.5)\n",
            "Requirement already satisfied: statsmodels>=0.13 in /usr/local/lib/python3.7/dist-packages (from pingouin) (0.13.2)\n",
            "Requirement already satisfied: pandas-flavor>=0.2.0 in /usr/local/lib/python3.7/dist-packages (from pingouin) (0.2.0)\n",
            "Requirement already satisfied: seaborn>=0.11 in /usr/local/lib/python3.7/dist-packages (from pingouin) (0.11.2)\n",
            "Requirement already satisfied: outdated in /usr/local/lib/python3.7/dist-packages (from pingouin) (0.2.1)\n",
            "Requirement already satisfied: tabulate in /usr/local/lib/python3.7/dist-packages (from pingouin) (0.8.10)\n",
            "Requirement already satisfied: matplotlib>=3.0.2 in /usr/local/lib/python3.7/dist-packages (from pingouin) (3.2.2)\n",
            "Requirement already satisfied: numpy>=1.19 in /usr/local/lib/python3.7/dist-packages (from pingouin) (1.21.6)\n",
            "Requirement already satisfied: scikit-learn<1.1.0 in /usr/local/lib/python3.7/dist-packages (from pingouin) (1.0.2)\n",
            "Requirement already satisfied: scipy>=1.7 in /usr/local/lib/python3.7/dist-packages (from pingouin) (1.7.3)\n",
            "Requirement already satisfied: kiwisolver>=1.0.1 in /usr/local/lib/python3.7/dist-packages (from matplotlib>=3.0.2->pingouin) (1.4.4)\n",
            "Requirement already satisfied: python-dateutil>=2.1 in /usr/local/lib/python3.7/dist-packages (from matplotlib>=3.0.2->pingouin) (2.8.2)\n",
            "Requirement already satisfied: pyparsing!=2.0.4,!=2.1.2,!=2.1.6,>=2.0.1 in /usr/local/lib/python3.7/dist-packages (from matplotlib>=3.0.2->pingouin) (3.0.9)\n",
            "Requirement already satisfied: cycler>=0.10 in /usr/local/lib/python3.7/dist-packages (from matplotlib>=3.0.2->pingouin) (0.11.0)\n",
            "Requirement already satisfied: typing-extensions in /usr/local/lib/python3.7/dist-packages (from kiwisolver>=1.0.1->matplotlib>=3.0.2->pingouin) (4.1.1)\n",
            "Requirement already satisfied: pytz>=2017.3 in /usr/local/lib/python3.7/dist-packages (from pandas>=1.0->pingouin) (2022.4)\n",
            "Requirement already satisfied: xarray in /usr/local/lib/python3.7/dist-packages (from pandas-flavor>=0.2.0->pingouin) (0.20.2)\n",
            "Requirement already satisfied: six>=1.5 in /usr/local/lib/python3.7/dist-packages (from python-dateutil>=2.1->matplotlib>=3.0.2->pingouin) (1.15.0)\n",
            "Requirement already satisfied: threadpoolctl>=2.0.0 in /usr/local/lib/python3.7/dist-packages (from scikit-learn<1.1.0->pingouin) (3.1.0)\n",
            "Requirement already satisfied: joblib>=0.11 in /usr/local/lib/python3.7/dist-packages (from scikit-learn<1.1.0->pingouin) (1.2.0)\n",
            "Requirement already satisfied: packaging>=21.3 in /usr/local/lib/python3.7/dist-packages (from statsmodels>=0.13->pingouin) (21.3)\n",
            "Requirement already satisfied: patsy>=0.5.2 in /usr/local/lib/python3.7/dist-packages (from statsmodels>=0.13->pingouin) (0.5.2)\n",
            "Requirement already satisfied: littleutils in /usr/local/lib/python3.7/dist-packages (from outdated->pingouin) (0.2.2)\n",
            "Requirement already satisfied: requests in /usr/local/lib/python3.7/dist-packages (from outdated->pingouin) (2.23.0)\n",
            "Requirement already satisfied: chardet<4,>=3.0.2 in /usr/local/lib/python3.7/dist-packages (from requests->outdated->pingouin) (3.0.4)\n",
            "Requirement already satisfied: urllib3!=1.25.0,!=1.25.1,<1.26,>=1.21.1 in /usr/local/lib/python3.7/dist-packages (from requests->outdated->pingouin) (1.24.3)\n",
            "Requirement already satisfied: certifi>=2017.4.17 in /usr/local/lib/python3.7/dist-packages (from requests->outdated->pingouin) (2022.9.24)\n",
            "Requirement already satisfied: idna<3,>=2.5 in /usr/local/lib/python3.7/dist-packages (from requests->outdated->pingouin) (2.10)\n",
            "Requirement already satisfied: importlib-metadata in /usr/local/lib/python3.7/dist-packages (from xarray->pandas-flavor>=0.2.0->pingouin) (5.0.0)\n",
            "Requirement already satisfied: zipp>=0.5 in /usr/local/lib/python3.7/dist-packages (from importlib-metadata->xarray->pandas-flavor>=0.2.0->pingouin) (3.8.1)\n"
          ]
        }
      ],
      "source": [
        "# Import necessary packages/modules\n",
        "import pandas as pd\n",
        "import seaborn as sns\n",
        "import matplotlib.pyplot as plt\n",
        "import numpy as np\n",
        "import io\n",
        "from google.colab import files\n",
        "\n",
        "import sklearn\n",
        "from sklearn.linear_model import LinearRegression\n",
        "from sklearn.model_selection import cross_val_score\n",
        "from sklearn.model_selection import KFold\n",
        "from sklearn import preprocessing\n",
        "from sklearn.model_selection import RepeatedKFold\n",
        "from sklearn.preprocessing import StandardScaler\n",
        "from sklearn.model_selection import train_test_split\n",
        "from sklearn.metrics import mean_squared_error\n",
        "from sklearn.metrics import r2_score\n",
        "from sklearn.model_selection import cross_validate\n",
        "from sklearn.preprocessing import PolynomialFeatures\n",
        "from sklearn.pipeline import make_pipeline\n",
        "from sklearn.tree import DecisionTreeRegressor\n",
        "from sklearn.linear_model import Lasso, LassoCV, RidgeCV, Ridge, ElasticNetCV, ElasticNet\n",
        "from sklearn.model_selection import GridSearchCV\n",
        "\n",
        "import statsmodels.api as sm\n",
        "from scipy import stats\n",
        "\n",
        "from numpy import std\n",
        "from numpy import mean\n",
        "from numpy import absolute\n",
        "from numpy import sqrt\n",
        "\n",
        "!pip install mlinsights\n",
        "from mlinsights.mlmodel import PiecewiseRegressor\n",
        "\n",
        "!pip install pingouin\n",
        "import pingouin as pg\n",
        "\n",
        "# set up notebook to display multiple output from cells\n",
        "from IPython.core.interactiveshell import InteractiveShell\n",
        "InteractiveShell.ast_node_interactivity = \"all\""
      ]
    },
    {
      "cell_type": "markdown",
      "source": [
        "\n"
      ],
      "metadata": {
        "id": "9jmDZgZDnKiR"
      }
    },
    {
      "cell_type": "code",
      "source": [
        "# Upload House Prices training file\n",
        "uploaded = files.upload()\n",
        " \n",
        "data = pd.read_csv(io.BytesIO(uploaded['train.csv']))"
      ],
      "metadata": {
        "colab": {
          "base_uri": "https://localhost:8080/",
          "height": 108
        },
        "id": "2vRMHOi7oLdQ",
        "outputId": "f55bcf2c-4e94-4eff-ffa1-55299d08b35f"
      },
      "execution_count": 2,
      "outputs": [
        {
          "output_type": "display_data",
          "data": {
            "text/plain": [
              "<IPython.core.display.HTML object>"
            ],
            "text/html": [
              "\n",
              "     <input type=\"file\" id=\"files-fb2d9990-d11d-4585-a00f-05b53803eb33\" name=\"files[]\" multiple disabled\n",
              "        style=\"border:none\" />\n",
              "     <output id=\"result-fb2d9990-d11d-4585-a00f-05b53803eb33\">\n",
              "      Upload widget is only available when the cell has been executed in the\n",
              "      current browser session. Please rerun this cell to enable.\n",
              "      </output>\n",
              "      <script>// Copyright 2017 Google LLC\n",
              "//\n",
              "// Licensed under the Apache License, Version 2.0 (the \"License\");\n",
              "// you may not use this file except in compliance with the License.\n",
              "// You may obtain a copy of the License at\n",
              "//\n",
              "//      http://www.apache.org/licenses/LICENSE-2.0\n",
              "//\n",
              "// Unless required by applicable law or agreed to in writing, software\n",
              "// distributed under the License is distributed on an \"AS IS\" BASIS,\n",
              "// WITHOUT WARRANTIES OR CONDITIONS OF ANY KIND, either express or implied.\n",
              "// See the License for the specific language governing permissions and\n",
              "// limitations under the License.\n",
              "\n",
              "/**\n",
              " * @fileoverview Helpers for google.colab Python module.\n",
              " */\n",
              "(function(scope) {\n",
              "function span(text, styleAttributes = {}) {\n",
              "  const element = document.createElement('span');\n",
              "  element.textContent = text;\n",
              "  for (const key of Object.keys(styleAttributes)) {\n",
              "    element.style[key] = styleAttributes[key];\n",
              "  }\n",
              "  return element;\n",
              "}\n",
              "\n",
              "// Max number of bytes which will be uploaded at a time.\n",
              "const MAX_PAYLOAD_SIZE = 100 * 1024;\n",
              "\n",
              "function _uploadFiles(inputId, outputId) {\n",
              "  const steps = uploadFilesStep(inputId, outputId);\n",
              "  const outputElement = document.getElementById(outputId);\n",
              "  // Cache steps on the outputElement to make it available for the next call\n",
              "  // to uploadFilesContinue from Python.\n",
              "  outputElement.steps = steps;\n",
              "\n",
              "  return _uploadFilesContinue(outputId);\n",
              "}\n",
              "\n",
              "// This is roughly an async generator (not supported in the browser yet),\n",
              "// where there are multiple asynchronous steps and the Python side is going\n",
              "// to poll for completion of each step.\n",
              "// This uses a Promise to block the python side on completion of each step,\n",
              "// then passes the result of the previous step as the input to the next step.\n",
              "function _uploadFilesContinue(outputId) {\n",
              "  const outputElement = document.getElementById(outputId);\n",
              "  const steps = outputElement.steps;\n",
              "\n",
              "  const next = steps.next(outputElement.lastPromiseValue);\n",
              "  return Promise.resolve(next.value.promise).then((value) => {\n",
              "    // Cache the last promise value to make it available to the next\n",
              "    // step of the generator.\n",
              "    outputElement.lastPromiseValue = value;\n",
              "    return next.value.response;\n",
              "  });\n",
              "}\n",
              "\n",
              "/**\n",
              " * Generator function which is called between each async step of the upload\n",
              " * process.\n",
              " * @param {string} inputId Element ID of the input file picker element.\n",
              " * @param {string} outputId Element ID of the output display.\n",
              " * @return {!Iterable<!Object>} Iterable of next steps.\n",
              " */\n",
              "function* uploadFilesStep(inputId, outputId) {\n",
              "  const inputElement = document.getElementById(inputId);\n",
              "  inputElement.disabled = false;\n",
              "\n",
              "  const outputElement = document.getElementById(outputId);\n",
              "  outputElement.innerHTML = '';\n",
              "\n",
              "  const pickedPromise = new Promise((resolve) => {\n",
              "    inputElement.addEventListener('change', (e) => {\n",
              "      resolve(e.target.files);\n",
              "    });\n",
              "  });\n",
              "\n",
              "  const cancel = document.createElement('button');\n",
              "  inputElement.parentElement.appendChild(cancel);\n",
              "  cancel.textContent = 'Cancel upload';\n",
              "  const cancelPromise = new Promise((resolve) => {\n",
              "    cancel.onclick = () => {\n",
              "      resolve(null);\n",
              "    };\n",
              "  });\n",
              "\n",
              "  // Wait for the user to pick the files.\n",
              "  const files = yield {\n",
              "    promise: Promise.race([pickedPromise, cancelPromise]),\n",
              "    response: {\n",
              "      action: 'starting',\n",
              "    }\n",
              "  };\n",
              "\n",
              "  cancel.remove();\n",
              "\n",
              "  // Disable the input element since further picks are not allowed.\n",
              "  inputElement.disabled = true;\n",
              "\n",
              "  if (!files) {\n",
              "    return {\n",
              "      response: {\n",
              "        action: 'complete',\n",
              "      }\n",
              "    };\n",
              "  }\n",
              "\n",
              "  for (const file of files) {\n",
              "    const li = document.createElement('li');\n",
              "    li.append(span(file.name, {fontWeight: 'bold'}));\n",
              "    li.append(span(\n",
              "        `(${file.type || 'n/a'}) - ${file.size} bytes, ` +\n",
              "        `last modified: ${\n",
              "            file.lastModifiedDate ? file.lastModifiedDate.toLocaleDateString() :\n",
              "                                    'n/a'} - `));\n",
              "    const percent = span('0% done');\n",
              "    li.appendChild(percent);\n",
              "\n",
              "    outputElement.appendChild(li);\n",
              "\n",
              "    const fileDataPromise = new Promise((resolve) => {\n",
              "      const reader = new FileReader();\n",
              "      reader.onload = (e) => {\n",
              "        resolve(e.target.result);\n",
              "      };\n",
              "      reader.readAsArrayBuffer(file);\n",
              "    });\n",
              "    // Wait for the data to be ready.\n",
              "    let fileData = yield {\n",
              "      promise: fileDataPromise,\n",
              "      response: {\n",
              "        action: 'continue',\n",
              "      }\n",
              "    };\n",
              "\n",
              "    // Use a chunked sending to avoid message size limits. See b/62115660.\n",
              "    let position = 0;\n",
              "    do {\n",
              "      const length = Math.min(fileData.byteLength - position, MAX_PAYLOAD_SIZE);\n",
              "      const chunk = new Uint8Array(fileData, position, length);\n",
              "      position += length;\n",
              "\n",
              "      const base64 = btoa(String.fromCharCode.apply(null, chunk));\n",
              "      yield {\n",
              "        response: {\n",
              "          action: 'append',\n",
              "          file: file.name,\n",
              "          data: base64,\n",
              "        },\n",
              "      };\n",
              "\n",
              "      let percentDone = fileData.byteLength === 0 ?\n",
              "          100 :\n",
              "          Math.round((position / fileData.byteLength) * 100);\n",
              "      percent.textContent = `${percentDone}% done`;\n",
              "\n",
              "    } while (position < fileData.byteLength);\n",
              "  }\n",
              "\n",
              "  // All done.\n",
              "  yield {\n",
              "    response: {\n",
              "      action: 'complete',\n",
              "    }\n",
              "  };\n",
              "}\n",
              "\n",
              "scope.google = scope.google || {};\n",
              "scope.google.colab = scope.google.colab || {};\n",
              "scope.google.colab._files = {\n",
              "  _uploadFiles,\n",
              "  _uploadFilesContinue,\n",
              "};\n",
              "})(self);\n",
              "</script> "
            ]
          },
          "metadata": {}
        },
        {
          "output_type": "stream",
          "name": "stdout",
          "text": [
            "Saving test.csv to test.csv\n",
            "Saving train.csv to train.csv\n"
          ]
        }
      ]
    },
    {
      "cell_type": "markdown",
      "source": [
        "Our data consists of 81 columns and 1460 observations. \n",
        "\n",
        "Our target column is SalePrice. \n",
        "\n",
        "The feature columns consist of integer, continuous and string values. For linear regression we will want to transform features in string format into a numeric representation as well as normalize numeric values for consistent weighting."
      ],
      "metadata": {
        "id": "s5cnduJCX6ea"
      }
    },
    {
      "cell_type": "markdown",
      "source": [
        "## EDA requirement"
      ],
      "metadata": {
        "id": "ZHFEUyoUWxwU"
      }
    },
    {
      "cell_type": "code",
      "source": [
        "# descriptive stats of Sale Price\n",
        "data['SalePrice'].describe()"
      ],
      "metadata": {
        "colab": {
          "base_uri": "https://localhost:8080/"
        },
        "id": "e1bNseSMWwac",
        "outputId": "c0028ded-4c5e-442a-d943-faf948dd1030"
      },
      "execution_count": 3,
      "outputs": [
        {
          "output_type": "execute_result",
          "data": {
            "text/plain": [
              "count      1460.000000\n",
              "mean     180921.195890\n",
              "std       79442.502883\n",
              "min       34900.000000\n",
              "25%      129975.000000\n",
              "50%      163000.000000\n",
              "75%      214000.000000\n",
              "max      755000.000000\n",
              "Name: SalePrice, dtype: float64"
            ]
          },
          "metadata": {},
          "execution_count": 3
        }
      ]
    },
    {
      "cell_type": "code",
      "source": [
        "# distribution plot of sale price\n",
        "sns.displot(data, x=\"SalePrice\",kind=\"kde\")\n",
        "plt.title('House Sale Price Distribution')\n",
        "plt.show()"
      ],
      "metadata": {
        "colab": {
          "base_uri": "https://localhost:8080/",
          "height": 391
        },
        "id": "WAKFiqskW9CB",
        "outputId": "1bedee8e-8fe3-47e5-d686-0639982c309b"
      },
      "execution_count": 4,
      "outputs": [
        {
          "output_type": "execute_result",
          "data": {
            "text/plain": [
              "<seaborn.axisgrid.FacetGrid at 0x7fbfee034e90>"
            ]
          },
          "metadata": {},
          "execution_count": 4
        },
        {
          "output_type": "execute_result",
          "data": {
            "text/plain": [
              "Text(0.5, 1.0, 'House Sale Price Distribution')"
            ]
          },
          "metadata": {},
          "execution_count": 4
        },
        {
          "output_type": "display_data",
          "data": {
            "text/plain": [
              "<Figure size 360x360 with 1 Axes>"
            ],
            "image/png": "[encoded data removed]"
          },
          "metadata": {
            "needs_background": "light"
          }
        }
      ]
    },
    {
      "cell_type": "code",
      "source": [
        "# similar distribution plot as histogram presenting counts\n",
        "sns.histplot(x = 'SalePrice', data = data)"
      ],
      "metadata": {
        "colab": {
          "base_uri": "https://localhost:8080/",
          "height": 296
        },
        "id": "Oy96qgWhxheP",
        "outputId": "bb6f4e51-54ef-4f4b-baf7-58f1b3faf365"
      },
      "execution_count": 5,
      "outputs": [
        {
          "output_type": "execute_result",
          "data": {
            "text/plain": [
              "<matplotlib.axes._subplots.AxesSubplot at 0x7fbfc8eec810>"
            ]
          },
          "metadata": {},
          "execution_count": 5
        },
        {
          "output_type": "display_data",
          "data": {
            "text/plain": [
              "<Figure size 432x288 with 1 Axes>"
            ],
            "image/png": "[encoded data removed]"
          },
          "metadata": {
            "needs_background": "light"
          }
        }
      ]
    },
    {
      "cell_type": "markdown",
      "source": [
        "There are 1460 instances in the training set, and the average home price is $180,921. The distribution is skewed right, as the median home price is less than that of the mean."
      ],
      "metadata": {
        "id": "I-rFgVpep_fQ"
      }
    },
    {
      "cell_type": "code",
      "source": [
        "# count occurence of missing data\n",
        "null_values = data.isnull().sum()\n",
        "# display sum of columns with missing data over zero\n",
        "null_values[null_values > 0]"
      ],
      "metadata": {
        "colab": {
          "base_uri": "https://localhost:8080/"
        },
        "id": "ygXdTdgFXJm2",
        "outputId": "fd382527-4062-47b0-c72a-a7500b4ba5c4"
      },
      "execution_count": 6,
      "outputs": [
        {
          "output_type": "execute_result",
          "data": {
            "text/plain": [
              "LotFrontage      259\n",
              "Alley           1369\n",
              "MasVnrType         8\n",
              "MasVnrArea         8\n",
              "BsmtQual          37\n",
              "BsmtCond          37\n",
              "BsmtExposure      38\n",
              "BsmtFinType1      37\n",
              "BsmtFinType2      38\n",
              "Electrical         1\n",
              "FireplaceQu      690\n",
              "GarageType        81\n",
              "GarageYrBlt       81\n",
              "GarageFinish      81\n",
              "GarageQual        81\n",
              "GarageCond        81\n",
              "PoolQC          1453\n",
              "Fence           1179\n",
              "MiscFeature     1406\n",
              "dtype: int64"
            ]
          },
          "metadata": {},
          "execution_count": 6
        }
      ]
    },
    {
      "cell_type": "code",
      "source": [
        "# heatmap of missing data \n",
        "plt.figure(figsize = (20,5))\n",
        "sns.heatmap(data.isnull(), cbar = False)\n",
        "plt.title('Column Missing Value Heatmap')\n",
        "plt.show()"
      ],
      "metadata": {
        "colab": {
          "base_uri": "https://localhost:8080/",
          "height": 418
        },
        "id": "w9X60FwXJr0I",
        "outputId": "d2f7c554-8426-4351-b33c-156b6c9696f3"
      },
      "execution_count": 7,
      "outputs": [
        {
          "output_type": "execute_result",
          "data": {
            "text/plain": [
              "<Figure size 1440x360 with 0 Axes>"
            ]
          },
          "metadata": {},
          "execution_count": 7
        },
        {
          "output_type": "execute_result",
          "data": {
            "text/plain": [
              "<matplotlib.axes._subplots.AxesSubplot at 0x7fbfc8a43b50>"
            ]
          },
          "metadata": {},
          "execution_count": 7
        },
        {
          "output_type": "execute_result",
          "data": {
            "text/plain": [
              "Text(0.5, 1.0, 'Column Missing Value Heatmap')"
            ]
          },
          "metadata": {},
          "execution_count": 7
        },
        {
          "output_type": "display_data",
          "data": {
            "text/plain": [
              "<Figure size 1440x360 with 1 Axes>"
            ],
            "image/png": "[encoded data removed]"
          },
          "metadata": {
            "needs_background": "light"
          }
        }
      ]
    },
    {
      "cell_type": "markdown",
      "source": [
        "<a name=#catmissing></a>\n",
        "Null values for this dataset might be categorized in two ways - those that indicate a house is missing a feature, and features that are missing due to dirty data. Looking at the missing values from the columns above we see a pattern - none of the missing values fall into categories that necessitate a house, such as the existence of a bedroom or kitchen. Further, when we look at groups of features we see that if there is a missing value the value is missing consistently for the row. This indicates that the former of the two cases is true for this dataset, and that null values are due to a feature missing from a house. The absense of a feature may contribute to a regression prediction and it may be worthwhile to transform these values into a zero value or null equivalent."
      ],
      "metadata": {
        "id": "sHY2AQPbGtp_"
      }
    },
    {
      "cell_type": "markdown",
      "source": [
        "There are a few features with many missing values, such as Alley, PoolQC, Fence, and MiscFeature. We could possibly drop these features given the many missing values."
      ],
      "metadata": {
        "id": "fiJQ5Q8EmdGN"
      }
    },
    {
      "cell_type": "code",
      "source": [
        "# Dropping categorical variables to 1) avoid too many features and \n",
        "# 2) to drop features with missing many values\n",
        "numerics = ['int16', 'int32', 'int64', 'float16', 'float32', 'float64']\n",
        "data_numerics_only = data.select_dtypes(include=numerics)"
      ],
      "metadata": {
        "id": "pvshmRWYmdGN"
      },
      "execution_count": 8,
      "outputs": []
    },
    {
      "cell_type": "code",
      "source": [
        "# Rechecking nan values\n",
        "data_numerics_missing = data_numerics_only.isna().sum()\n",
        "data_numerics_missing[data_numerics_missing > 0]"
      ],
      "metadata": {
        "colab": {
          "base_uri": "https://localhost:8080/"
        },
        "outputId": "b12c1266-e92f-4b8c-f1e8-1bfa5fa20434",
        "id": "SfwRACNomdGN"
      },
      "execution_count": 9,
      "outputs": [
        {
          "output_type": "execute_result",
          "data": {
            "text/plain": [
              "LotFrontage    259\n",
              "MasVnrArea       8\n",
              "GarageYrBlt     81\n",
              "dtype: int64"
            ]
          },
          "metadata": {},
          "execution_count": 9
        }
      ]
    },
    {
      "cell_type": "markdown",
      "source": [
        "<a name=\"numnull\"></a>\n",
        "After re-checking nan values in the numerical values, there are still 3 columns we will either need to impute or drop.\n",
        "\n",
        "\n",
        "*   GarageYrBlt - will impute YearBuilt values into missing values in this column (assumes that garages were built the same year as the houses for imputed data points) \n",
        "*   LotFrontage - drop the feature, as about 18% of the data points are missing this information\n",
        "*   MasVnrArea - impute using mean, given there are only 8 data points\n",
        "\n",
        "\n",
        "\n",
        "\n",
        "\n"
      ],
      "metadata": {
        "id": "8uOboME0mdGO"
      }
    },
    {
      "cell_type": "code",
      "source": [
        "# fill GarageYrBlt missing values with corresponding YearBuilt values\n",
        "data_numerics_only['GarageYrBlt'].fillna(data_numerics_only['YearBuilt'], inplace=True)\n",
        "\n",
        "# drop LotFrontage feature\n",
        "data_numerics_only.drop(['LotFrontage'], axis=1, inplace=True)\n",
        "\n",
        "# impute MasVnrArea missing values with mean value\n",
        "data_numerics_only['MasVnrArea'].fillna(data_numerics_only['MasVnrArea'].mean(), inplace=True)\n",
        "\n",
        "# view new DataFrame info to ensure no missing values\n",
        "data = data_numerics_only.copy()\n",
        "data.info()"
      ],
      "metadata": {
        "colab": {
          "base_uri": "https://localhost:8080/"
        },
        "outputId": "229151eb-347b-4a26-dec8-6c2f717039ab",
        "id": "xX0MYbZ7mdGO"
      },
      "execution_count": 10,
      "outputs": [
        {
          "output_type": "stream",
          "name": "stdout",
          "text": [
            "<class 'pandas.core.frame.DataFrame'>\n",
            "RangeIndex: 1460 entries, 0 to 1459\n",
            "Data columns (total 37 columns):\n",
            " #   Column         Non-Null Count  Dtype  \n",
            "---  ------         --------------  -----  \n",
            " 0   Id             1460 non-null   int64  \n",
            " 1   MSSubClass     1460 non-null   int64  \n",
            " 2   LotArea        1460 non-null   int64  \n",
            " 3   OverallQual    1460 non-null   int64  \n",
            " 4   OverallCond    1460 non-null   int64  \n",
            " 5   YearBuilt      1460 non-null   int64  \n",
            " 6   YearRemodAdd   1460 non-null   int64  \n",
            " 7   MasVnrArea     1460 non-null   float64\n",
            " 8   BsmtFinSF1     1460 non-null   int64  \n",
            " 9   BsmtFinSF2     1460 non-null   int64  \n",
            " 10  BsmtUnfSF      1460 non-null   int64  \n",
            " 11  TotalBsmtSF    1460 non-null   int64  \n",
            " 12  1stFlrSF       1460 non-null   int64  \n",
            " 13  2ndFlrSF       1460 non-null   int64  \n",
            " 14  LowQualFinSF   1460 non-null   int64  \n",
            " 15  GrLivArea      1460 non-null   int64  \n",
            " 16  BsmtFullBath   1460 non-null   int64  \n",
            " 17  BsmtHalfBath   1460 non-null   int64  \n",
            " 18  FullBath       1460 non-null   int64  \n",
            " 19  HalfBath       1460 non-null   int64  \n",
            " 20  BedroomAbvGr   1460 non-null   int64  \n",
            " 21  KitchenAbvGr   1460 non-null   int64  \n",
            " 22  TotRmsAbvGrd   1460 non-null   int64  \n",
            " 23  Fireplaces     1460 non-null   int64  \n",
            " 24  GarageYrBlt    1460 non-null   float64\n",
            " 25  GarageCars     1460 non-null   int64  \n",
            " 26  GarageArea     1460 non-null   int64  \n",
            " 27  WoodDeckSF     1460 non-null   int64  \n",
            " 28  OpenPorchSF    1460 non-null   int64  \n",
            " 29  EnclosedPorch  1460 non-null   int64  \n",
            " 30  3SsnPorch      1460 non-null   int64  \n",
            " 31  ScreenPorch    1460 non-null   int64  \n",
            " 32  PoolArea       1460 non-null   int64  \n",
            " 33  MiscVal        1460 non-null   int64  \n",
            " 34  MoSold         1460 non-null   int64  \n",
            " 35  YrSold         1460 non-null   int64  \n",
            " 36  SalePrice      1460 non-null   int64  \n",
            "dtypes: float64(2), int64(35)\n",
            "memory usage: 422.2 KB\n"
          ]
        },
        {
          "output_type": "stream",
          "name": "stderr",
          "text": [
            "/usr/local/lib/python3.7/dist-packages/pandas/core/generic.py:6392: SettingWithCopyWarning: \n",
            "A value is trying to be set on a copy of a slice from a DataFrame\n",
            "\n",
            "See the caveats in the documentation: https://pandas.pydata.org/pandas-docs/stable/user_guide/indexing.html#returning-a-view-versus-a-copy\n",
            "  return self._update_inplace(result)\n",
            "/usr/local/lib/python3.7/dist-packages/pandas/core/frame.py:4913: SettingWithCopyWarning: \n",
            "A value is trying to be set on a copy of a slice from a DataFrame\n",
            "\n",
            "See the caveats in the documentation: https://pandas.pydata.org/pandas-docs/stable/user_guide/indexing.html#returning-a-view-versus-a-copy\n",
            "  errors=errors,\n"
          ]
        }
      ]
    },
    {
      "cell_type": "code",
      "source": [
        "# boxplot distribution of House Sale Price to investigate outliers\n",
        "sns.boxplot(x=data[\"SalePrice\"])\n",
        "plt.title('House Sale Price Boxplot Distribution')\n",
        "plt.show()"
      ],
      "metadata": {
        "colab": {
          "base_uri": "https://localhost:8080/",
          "height": 312
        },
        "id": "jsvn_41dW9Ku",
        "outputId": "0de3e154-e01c-459a-80b4-951714083de6"
      },
      "execution_count": 11,
      "outputs": [
        {
          "output_type": "execute_result",
          "data": {
            "text/plain": [
              "<matplotlib.axes._subplots.AxesSubplot at 0x7fbfc755e5d0>"
            ]
          },
          "metadata": {},
          "execution_count": 11
        },
        {
          "output_type": "execute_result",
          "data": {
            "text/plain": [
              "Text(0.5, 1.0, 'House Sale Price Boxplot Distribution')"
            ]
          },
          "metadata": {},
          "execution_count": 11
        },
        {
          "output_type": "display_data",
          "data": {
            "text/plain": [
              "<Figure size 432x288 with 1 Axes>"
            ],
            "image/png": "[encoded data removed]"
          },
          "metadata": {
            "needs_background": "light"
          }
        }
      ]
    },
    {
      "cell_type": "code",
      "source": [
        "# boxplot with whiskers adjusted to show extreme outliers (3 * IQR)\n",
        "sns.boxplot(data = data, x = 'SalePrice', whis = 3)\n",
        "plt.title('House Sale Price Distribution: Outliers at 3x IQR')\n",
        "plt.show()"
      ],
      "metadata": {
        "colab": {
          "base_uri": "https://localhost:8080/",
          "height": 312
        },
        "id": "UEF3DgHQHAiP",
        "outputId": "640c9430-f9d3-4145-b4ee-cbd98ae8f146"
      },
      "execution_count": 12,
      "outputs": [
        {
          "output_type": "execute_result",
          "data": {
            "text/plain": [
              "<matplotlib.axes._subplots.AxesSubplot at 0x7fbfc74e8bd0>"
            ]
          },
          "metadata": {},
          "execution_count": 12
        },
        {
          "output_type": "execute_result",
          "data": {
            "text/plain": [
              "Text(0.5, 1.0, 'House Sale Price Distribution: Outliers at 3x IQR')"
            ]
          },
          "metadata": {},
          "execution_count": 12
        },
        {
          "output_type": "display_data",
          "data": {
            "text/plain": [
              "<Figure size 432x288 with 1 Axes>"
            ],
            "image/png": "[encoded data removed]"
          },
          "metadata": {
            "needs_background": "light"
          }
        }
      ]
    },
    {
      "cell_type": "markdown",
      "source": [
        "All (extreme) outliers appear to be on the high end of SalePrice. Let's look at each of the extreme outliers individually with several of the other features."
      ],
      "metadata": {
        "id": "GwH0g93aHzS8"
      }
    },
    {
      "cell_type": "code",
      "source": [
        "# display extreme outliers of SalePrice with several other features\n",
        "Q1, Q3 = data['SalePrice'].quantile([0.25, 0.75])\n",
        "IQR = Q3 - Q1\n",
        "outliers = data[(data['SalePrice'] < Q1 - 3 * IQR) | (data['SalePrice'] > Q3 + 3 * IQR)]\n",
        "# removed external quality\n",
        "outliers[['Id', 'LotArea', 'OverallQual', 'YearBuilt', 'YearRemodAdd', 'TotalBsmtSF', 'GrLivArea', 'GarageCars', 'GarageArea',\n",
        "          'YrSold', 'SalePrice']]"
      ],
      "metadata": {
        "id": "VdqcWPCXhnA7",
        "colab": {
          "base_uri": "https://localhost:8080/",
          "height": 425
        },
        "outputId": "04c53147-fe9c-42af-eef4-08b720936627"
      },
      "execution_count": 13,
      "outputs": [
        {
          "output_type": "execute_result",
          "data": {
            "text/plain": [
              "        Id  LotArea  OverallQual  YearBuilt  YearRemodAdd  TotalBsmtSF  \\\n",
              "178    179    17423            9       2008          2009         2216   \n",
              "185    186    22950           10       1892          1993         1107   \n",
              "440    441    15431           10       2008          2008         3094   \n",
              "691    692    21535           10       1994          1995         2444   \n",
              "769    770    53504            8       2003          2003         1650   \n",
              "798    799    13518            9       2008          2009         1926   \n",
              "803    804    13891            9       2008          2009         1734   \n",
              "898    899    12919            9       2009          2010         2330   \n",
              "1046  1047    16056            9       2005          2006         1992   \n",
              "1169  1170    35760           10       1995          1996         1930   \n",
              "1182  1183    15623           10       1996          1996         2396   \n",
              "1373  1374    11400           10       2001          2002         2633   \n",
              "\n",
              "      GrLivArea  GarageCars  GarageArea  YrSold  SalePrice  \n",
              "178        2234           3        1166    2009     501837  \n",
              "185        3608           3         840    2006     475000  \n",
              "440        2402           3         672    2009     555000  \n",
              "691        4316           3         832    2007     755000  \n",
              "769        3279           3         841    2010     538000  \n",
              "798        3140           3         820    2009     485000  \n",
              "803        2822           3        1020    2009     582933  \n",
              "898        2364           3         820    2010     611657  \n",
              "1046       2868           3         716    2006     556581  \n",
              "1169       3627           3         807    2006     625000  \n",
              "1182       4476           3         813    2007     745000  \n",
              "1373       2633           3         804    2007     466500  "
            ],
            "text/html": [
              "\n",
              "  <div id=\"df-53832a27-bfed-40d4-b35c-cec41bbb0669\">\n",
              "    <div class=\"colab-df-container\">\n",
              "      <div>\n",
              "<style scoped>\n",
              "    .dataframe tbody tr th:only-of-type {\n",
              "        vertical-align: middle;\n",
              "    }\n",
              "\n",
              "    .dataframe tbody tr th {\n",
              "        vertical-align: top;\n",
              "    }\n",
              "\n",
              "    .dataframe thead th {\n",
              "        text-align: right;\n",
              "    }\n",
              "</style>\n",
              "<table border=\"1\" class=\"dataframe\">\n",
              "  <thead>\n",
              "    <tr style=\"text-align: right;\">\n",
              "      <th></th>\n",
              "      <th>Id</th>\n",
              "      <th>LotArea</th>\n",
              "      <th>OverallQual</th>\n",
              "      <th>YearBuilt</th>\n",
              "      <th>YearRemodAdd</th>\n",
              "      <th>TotalBsmtSF</th>\n",
              "      <th>GrLivArea</th>\n",
              "      <th>GarageCars</th>\n",
              "      <th>GarageArea</th>\n",
              "      <th>YrSold</th>\n",
              "      <th>SalePrice</th>\n",
              "    </tr>\n",
              "  </thead>\n",
              "  <tbody>\n",
              "    <tr>\n",
              "      <th>178</th>\n",
              "      <td>179</td>\n",
              "      <td>17423</td>\n",
              "      <td>9</td>\n",
              "      <td>2008</td>\n",
              "      <td>2009</td>\n",
              "      <td>2216</td>\n",
              "      <td>2234</td>\n",
              "      <td>3</td>\n",
              "      <td>1166</td>\n",
              "      <td>2009</td>\n",
              "      <td>501837</td>\n",
              "    </tr>\n",
              "    <tr>\n",
              "      <th>185</th>\n",
              "      <td>186</td>\n",
              "      <td>22950</td>\n",
              "      <td>10</td>\n",
              "      <td>1892</td>\n",
              "      <td>1993</td>\n",
              "      <td>1107</td>\n",
              "      <td>3608</td>\n",
              "      <td>3</td>\n",
              "      <td>840</td>\n",
              "      <td>2006</td>\n",
              "      <td>475000</td>\n",
              "    </tr>\n",
              "    <tr>\n",
              "      <th>440</th>\n",
              "      <td>441</td>\n",
              "      <td>15431</td>\n",
              "      <td>10</td>\n",
              "      <td>2008</td>\n",
              "      <td>2008</td>\n",
              "      <td>3094</td>\n",
              "      <td>2402</td>\n",
              "      <td>3</td>\n",
              "      <td>672</td>\n",
              "      <td>2009</td>\n",
              "      <td>555000</td>\n",
              "    </tr>\n",
              "    <tr>\n",
              "      <th>691</th>\n",
              "      <td>692</td>\n",
              "      <td>21535</td>\n",
              "      <td>10</td>\n",
              "      <td>1994</td>\n",
              "      <td>1995</td>\n",
              "      <td>2444</td>\n",
              "      <td>4316</td>\n",
              "      <td>3</td>\n",
              "      <td>832</td>\n",
              "      <td>2007</td>\n",
              "      <td>755000</td>\n",
              "    </tr>\n",
              "    <tr>\n",
              "      <th>769</th>\n",
              "      <td>770</td>\n",
              "      <td>53504</td>\n",
              "      <td>8</td>\n",
              "      <td>2003</td>\n",
              "      <td>2003</td>\n",
              "      <td>1650</td>\n",
              "      <td>3279</td>\n",
              "      <td>3</td>\n",
              "      <td>841</td>\n",
              "      <td>2010</td>\n",
              "      <td>538000</td>\n",
              "    </tr>\n",
              "    <tr>\n",
              "      <th>798</th>\n",
              "      <td>799</td>\n",
              "      <td>13518</td>\n",
              "      <td>9</td>\n",
              "      <td>2008</td>\n",
              "      <td>2009</td>\n",
              "      <td>1926</td>\n",
              "      <td>3140</td>\n",
              "      <td>3</td>\n",
              "      <td>820</td>\n",
              "      <td>2009</td>\n",
              "      <td>485000</td>\n",
              "    </tr>\n",
              "    <tr>\n",
              "      <th>803</th>\n",
              "      <td>804</td>\n",
              "      <td>13891</td>\n",
              "      <td>9</td>\n",
              "      <td>2008</td>\n",
              "      <td>2009</td>\n",
              "      <td>1734</td>\n",
              "      <td>2822</td>\n",
              "      <td>3</td>\n",
              "      <td>1020</td>\n",
              "      <td>2009</td>\n",
              "      <td>582933</td>\n",
              "    </tr>\n",
              "    <tr>\n",
              "      <th>898</th>\n",
              "      <td>899</td>\n",
              "      <td>12919</td>\n",
              "      <td>9</td>\n",
              "      <td>2009</td>\n",
              "      <td>2010</td>\n",
              "      <td>2330</td>\n",
              "      <td>2364</td>\n",
              "      <td>3</td>\n",
              "      <td>820</td>\n",
              "      <td>2010</td>\n",
              "      <td>611657</td>\n",
              "    </tr>\n",
              "    <tr>\n",
              "      <th>1046</th>\n",
              "      <td>1047</td>\n",
              "      <td>16056</td>\n",
              "      <td>9</td>\n",
              "      <td>2005</td>\n",
              "      <td>2006</td>\n",
              "      <td>1992</td>\n",
              "      <td>2868</td>\n",
              "      <td>3</td>\n",
              "      <td>716</td>\n",
              "      <td>2006</td>\n",
              "      <td>556581</td>\n",
              "    </tr>\n",
              "    <tr>\n",
              "      <th>1169</th>\n",
              "      <td>1170</td>\n",
              "      <td>35760</td>\n",
              "      <td>10</td>\n",
              "      <td>1995</td>\n",
              "      <td>1996</td>\n",
              "      <td>1930</td>\n",
              "      <td>3627</td>\n",
              "      <td>3</td>\n",
              "      <td>807</td>\n",
              "      <td>2006</td>\n",
              "      <td>625000</td>\n",
              "    </tr>\n",
              "    <tr>\n",
              "      <th>1182</th>\n",
              "      <td>1183</td>\n",
              "      <td>15623</td>\n",
              "      <td>10</td>\n",
              "      <td>1996</td>\n",
              "      <td>1996</td>\n",
              "      <td>2396</td>\n",
              "      <td>4476</td>\n",
              "      <td>3</td>\n",
              "      <td>813</td>\n",
              "      <td>2007</td>\n",
              "      <td>745000</td>\n",
              "    </tr>\n",
              "    <tr>\n",
              "      <th>1373</th>\n",
              "      <td>1374</td>\n",
              "      <td>11400</td>\n",
              "      <td>10</td>\n",
              "      <td>2001</td>\n",
              "      <td>2002</td>\n",
              "      <td>2633</td>\n",
              "      <td>2633</td>\n",
              "      <td>3</td>\n",
              "      <td>804</td>\n",
              "      <td>2007</td>\n",
              "      <td>466500</td>\n",
              "    </tr>\n",
              "  </tbody>\n",
              "</table>\n",
              "</div>\n",
              "      <button class=\"colab-df-convert\" onclick=\"convertToInteractive('df-53832a27-bfed-40d4-b35c-cec41bbb0669')\"\n",
              "              title=\"Convert this dataframe to an interactive table.\"\n",
              "              style=\"display:none;\">\n",
              "        \n",
              "  <svg xmlns=\"http://www.w3.org/2000/svg\" height=\"24px\"viewBox=\"0 0 24 24\"\n",
              "       width=\"24px\">\n",
              "    <path d=\"M0 0h24v24H0V0z\" fill=\"none\"/>\n",
              "    <path d=\"M18.56 5.44l.94 2.06.94-2.06 2.06-.94-2.06-.94-.94-2.06-.94 2.06-2.06.94zm-11 1L8.5 8.5l.94-2.06 2.06-.94-2.06-.94L8.5 2.5l-.94 2.06-2.06.94zm10 10l.94 2.06.94-2.06 2.06-.94-2.06-.94-.94-2.06-.94 2.06-2.06.94z\"/><path d=\"M17.41 7.96l-1.37-1.37c-.4-.4-.92-.59-1.43-.59-.52 0-1.04.2-1.43.59L10.3 9.45l-7.72 7.72c-.78.78-.78 2.05 0 2.83L4 21.41c.39.39.9.59 1.41.59.51 0 1.02-.2 1.41-.59l7.78-7.78 2.81-2.81c.8-.78.8-2.07 0-2.86zM5.41 20L4 18.59l7.72-7.72 1.47 1.35L5.41 20z\"/>\n",
              "  </svg>\n",
              "      </button>\n",
              "      \n",
              "  <style>\n",
              "    .colab-df-container {\n",
              "      display:flex;\n",
              "      flex-wrap:wrap;\n",
              "      gap: 12px;\n",
              "    }\n",
              "\n",
              "    .colab-df-convert {\n",
              "      background-color: #E8F0FE;\n",
              "      border: none;\n",
              "      border-radius: 50%;\n",
              "      cursor: pointer;\n",
              "      display: none;\n",
              "      fill: #1967D2;\n",
              "      height: 32px;\n",
              "      padding: 0 0 0 0;\n",
              "      width: 32px;\n",
              "    }\n",
              "\n",
              "    .colab-df-convert:hover {\n",
              "      background-color: #E2EBFA;\n",
              "      box-shadow: 0px 1px 2px rgba(60, 64, 67, 0.3), 0px 1px 3px 1px rgba(60, 64, 67, 0.15);\n",
              "      fill: #174EA6;\n",
              "    }\n",
              "\n",
              "    [theme=dark] .colab-df-convert {\n",
              "      background-color: #3B4455;\n",
              "      fill: #D2E3FC;\n",
              "    }\n",
              "\n",
              "    [theme=dark] .colab-df-convert:hover {\n",
              "      background-color: #434B5C;\n",
              "      box-shadow: 0px 1px 3px 1px rgba(0, 0, 0, 0.15);\n",
              "      filter: drop-shadow(0px 1px 2px rgba(0, 0, 0, 0.3));\n",
              "      fill: #FFFFFF;\n",
              "    }\n",
              "  </style>\n",
              "\n",
              "      <script>\n",
              "        const buttonEl =\n",
              "          document.querySelector('#df-53832a27-bfed-40d4-b35c-cec41bbb0669 button.colab-df-convert');\n",
              "        buttonEl.style.display =\n",
              "          google.colab.kernel.accessAllowed ? 'block' : 'none';\n",
              "\n",
              "        async function convertToInteractive(key) {\n",
              "          const element = document.querySelector('#df-53832a27-bfed-40d4-b35c-cec41bbb0669');\n",
              "          const dataTable =\n",
              "            await google.colab.kernel.invokeFunction('convertToInteractive',\n",
              "                                                     [key], {});\n",
              "          if (!dataTable) return;\n",
              "\n",
              "          const docLinkHtml = 'Like what you see? Visit the ' +\n",
              "            '<a target=\"_blank\" href=https://colab.research.google.com/notebooks/data_table.ipynb>data table notebook</a>'\n",
              "            + ' to learn more about interactive tables.';\n",
              "          element.innerHTML = '';\n",
              "          dataTable['output_type'] = 'display_data';\n",
              "          await google.colab.output.renderOutput(dataTable, element);\n",
              "          const docLink = document.createElement('div');\n",
              "          docLink.innerHTML = docLinkHtml;\n",
              "          element.appendChild(docLink);\n",
              "        }\n",
              "      </script>\n",
              "    </div>\n",
              "  </div>\n",
              "  "
            ]
          },
          "metadata": {},
          "execution_count": 13
        }
      ]
    },
    {
      "cell_type": "markdown",
      "source": [
        "## Enhanced EDA Requirement"
      ],
      "metadata": {
        "id": "ukOAJkAU9o9E"
      }
    },
    {
      "cell_type": "code",
      "source": [
        "# To enhance our variable exploration portion, we want to find the partial correlation between YearBuilt and OverallQual while holding YearRemodAdd constant.\n",
        "\n",
        "# First find correlation between YearBuilt and OverallQual as a baseline comparison.\n",
        "corr_YearBuilt_and_OverallQual = data['YearBuilt'].corr(data['OverallQual'])\n",
        "\n",
        "# Then find the correlation between YearBuilt and OverallQual while holding constant.\n",
        "partial_correlation_Yearbuilt_and_OverallQual = pg.partial_corr(data=data, x='YearBuilt', y='OverallQual', covar='YearRemodAdd')\n",
        "\n",
        "print('Correlation = ', corr_YearBuilt_and_OverallQual, 'Partial correlation = ', partial_correlation_Yearbuilt_and_OverallQual)"
      ],
      "metadata": {
        "colab": {
          "base_uri": "https://localhost:8080/"
        },
        "id": "HnJI2ngB-4Nt",
        "outputId": "9a618d8e-0c88-4829-9221-07c799d5800f"
      },
      "execution_count": 14,
      "outputs": [
        {
          "output_type": "stream",
          "name": "stdout",
          "text": [
            "Correlation =  0.5723227689623612 Partial correlation =              n         r         CI95%         p-val\n",
            "pearson  1460  0.365733  [0.32, 0.41]  2.109404e-47\n"
          ]
        }
      ]
    },
    {
      "cell_type": "markdown",
      "source": [
        "To interpret the results, the two variables YearBuilt and OverallQual are somewhat correlated (0.5723), but less so when the variable YearRemodAdd is held constant (0.3657). These results are somewhat credible, as the p-value is sufficiently low. \n",
        "What does this really mean? YearRemodAdd seems to be a confounding variable when you're looking at YearBuilt and OverallQual. When you remove it, the correlation between YearBuilt and OverallQual is quite a bit lower."
      ],
      "metadata": {
        "id": "M5okhl19BHE2"
      }
    },
    {
      "cell_type": "markdown",
      "source": [
        "## Feature Engineering Requirement"
      ],
      "metadata": {
        "id": "mJ8DdsepXTJz"
      }
    },
    {
      "cell_type": "code",
      "source": [
        "# sorted correlation of feature candidates relative to Sale Price\n",
        "data.corr()['SalePrice'].sort_values(ascending=False)"
      ],
      "metadata": {
        "colab": {
          "base_uri": "https://localhost:8080/"
        },
        "id": "kTALdrbYW9Tj",
        "outputId": "772df0fb-0db6-4359-eb4e-f7e1c2b83b52"
      },
      "execution_count": 15,
      "outputs": [
        {
          "output_type": "execute_result",
          "data": {
            "text/plain": [
              "SalePrice        1.000000\n",
              "OverallQual      0.790982\n",
              "GrLivArea        0.708624\n",
              "GarageCars       0.640409\n",
              "GarageArea       0.623431\n",
              "TotalBsmtSF      0.613581\n",
              "1stFlrSF         0.605852\n",
              "FullBath         0.560664\n",
              "TotRmsAbvGrd     0.533723\n",
              "YearBuilt        0.522897\n",
              "GarageYrBlt      0.508043\n",
              "YearRemodAdd     0.507101\n",
              "MasVnrArea       0.475241\n",
              "Fireplaces       0.466929\n",
              "BsmtFinSF1       0.386420\n",
              "WoodDeckSF       0.324413\n",
              "2ndFlrSF         0.319334\n",
              "OpenPorchSF      0.315856\n",
              "HalfBath         0.284108\n",
              "LotArea          0.263843\n",
              "BsmtFullBath     0.227122\n",
              "BsmtUnfSF        0.214479\n",
              "BedroomAbvGr     0.168213\n",
              "ScreenPorch      0.111447\n",
              "PoolArea         0.092404\n",
              "MoSold           0.046432\n",
              "3SsnPorch        0.044584\n",
              "BsmtFinSF2      -0.011378\n",
              "BsmtHalfBath    -0.016844\n",
              "MiscVal         -0.021190\n",
              "Id              -0.021917\n",
              "LowQualFinSF    -0.025606\n",
              "YrSold          -0.028923\n",
              "OverallCond     -0.077856\n",
              "MSSubClass      -0.084284\n",
              "EnclosedPorch   -0.128578\n",
              "KitchenAbvGr    -0.135907\n",
              "Name: SalePrice, dtype: float64"
            ]
          },
          "metadata": {},
          "execution_count": 15
        }
      ]
    },
    {
      "cell_type": "code",
      "source": [
        "# create heatmap of correlations\n",
        "fig, ax = plt.subplots(figsize=(10,10)) \n",
        "\n",
        "sns.heatmap(data.corr(), cmap=\"YlGnBu\", ax=ax)\n",
        "plt.title('Feature Correlation Heatmap')\n",
        "plt.show()"
      ],
      "metadata": {
        "colab": {
          "base_uri": "https://localhost:8080/",
          "height": 690
        },
        "id": "f5sMvoKgqGdz",
        "outputId": "0fc4ca91-654b-47e5-d66d-a268b257b442"
      },
      "execution_count": 16,
      "outputs": [
        {
          "output_type": "execute_result",
          "data": {
            "text/plain": [
              "<matplotlib.axes._subplots.AxesSubplot at 0x7fbfc74905d0>"
            ]
          },
          "metadata": {},
          "execution_count": 16
        },
        {
          "output_type": "execute_result",
          "data": {
            "text/plain": [
              "Text(0.5, 1.0, 'Feature Correlation Heatmap')"
            ]
          },
          "metadata": {},
          "execution_count": 16
        },
        {
          "output_type": "display_data",
          "data": {
            "text/plain": [
              "<Figure size 720x720 with 2 Axes>"
            ],
            "image/png": "[encoded data removed]"
          },
          "metadata": {
            "needs_background": "light"
          }
        }
      ]
    },
    {
      "cell_type": "markdown",
      "source": [
        "Overall Quality Predictor"
      ],
      "metadata": {
        "id": "k6WDbxdXXa5T"
      }
    },
    {
      "cell_type": "code",
      "source": [
        "# boxplot of Sale Price split by overall quality\n",
        "sns.boxplot(data=data, x=\"OverallQual\", y=\"SalePrice\")\n",
        "plt.title('Sale Price Boxplots Split by Overall Quality')\n",
        "plt.show()"
      ],
      "metadata": {
        "colab": {
          "base_uri": "https://localhost:8080/",
          "height": 312
        },
        "id": "2ejmWEQoXW1K",
        "outputId": "7a887a04-0313-4cd7-c09f-df434e3145b3"
      },
      "execution_count": 17,
      "outputs": [
        {
          "output_type": "execute_result",
          "data": {
            "text/plain": [
              "<matplotlib.axes._subplots.AxesSubplot at 0x7fbfc7309fd0>"
            ]
          },
          "metadata": {},
          "execution_count": 17
        },
        {
          "output_type": "execute_result",
          "data": {
            "text/plain": [
              "Text(0.5, 1.0, 'Sale Price Boxplots Split by Overall Quality')"
            ]
          },
          "metadata": {},
          "execution_count": 17
        },
        {
          "output_type": "display_data",
          "data": {
            "text/plain": [
              "<Figure size 432x288 with 1 Axes>"
            ],
            "image/png": "[encoded data removed]"
          },
          "metadata": {
            "needs_background": "light"
          }
        }
      ]
    },
    {
      "cell_type": "markdown",
      "source": [
        "Garage Area & Cars"
      ],
      "metadata": {
        "id": "HeXIVskFXu5u"
      }
    },
    {
      "cell_type": "code",
      "source": [
        "# scatter plot of Sale Price and Garage Area with number of cars as hue\n",
        "sns.scatterplot(data=data, x=\"GarageArea\", y=\"SalePrice\", hue=\"GarageCars\")\n",
        "plt.title('Sale Price Distribution by Garage Size and Car Capacity')\n",
        "plt.show()"
      ],
      "metadata": {
        "colab": {
          "base_uri": "https://localhost:8080/",
          "height": 312
        },
        "id": "m0POQgyKXxt2",
        "outputId": "17f5542c-c75f-414e-ce0a-de6ac7331319"
      },
      "execution_count": 18,
      "outputs": [
        {
          "output_type": "execute_result",
          "data": {
            "text/plain": [
              "<matplotlib.axes._subplots.AxesSubplot at 0x7fbfc730f990>"
            ]
          },
          "metadata": {},
          "execution_count": 18
        },
        {
          "output_type": "execute_result",
          "data": {
            "text/plain": [
              "Text(0.5, 1.0, 'Sale Price Distribution by Garage Size and Car Capacity')"
            ]
          },
          "metadata": {},
          "execution_count": 18
        },
        {
          "output_type": "display_data",
          "data": {
            "text/plain": [
              "<Figure size 432x288 with 1 Axes>"
            ],
            "image/png": "[encoded data removed]"
          },
          "metadata": {
            "needs_background": "light"
          }
        }
      ]
    },
    {
      "cell_type": "markdown",
      "source": [
        "GrLiv Area Predictor"
      ],
      "metadata": {
        "id": "SkWiENOjdgvA"
      }
    },
    {
      "cell_type": "code",
      "source": [
        "# set dimensional constraints for plot\n",
        "fig, ax = plt.subplots(figsize = (6, 6))\n",
        "\n",
        "# scatterplot of SalePrice by livable area above ground\n",
        "ax.scatter(data['GrLivArea'], data['SalePrice'], s=60, alpha=0.7, edgecolors=\"k\")\n",
        "\n",
        "# fit a line of best fit to data\n",
        "b, a = np.polyfit(data['GrLivArea'], data['SalePrice'], deg=1)\n",
        " \n",
        "# sequential list for plotting\n",
        "xseq = np.linspace(0, 6000, num=6000)\n",
        "\n",
        "# Plot regression line\n",
        "ax.plot(xseq, a + b * xseq, color=\"r\", lw=2)\n",
        "\n",
        "# labels\n",
        "plt.title('Sale Price and Livable Space Above Ground')\n",
        "plt.xlabel('Livable Space Above Ground: sqft')\n",
        "plt.ylabel('Sale Price')\n",
        "plt.show()"
      ],
      "metadata": {
        "colab": {
          "base_uri": "https://localhost:8080/",
          "height": 421
        },
        "id": "U1gJcWbGX26X",
        "outputId": "78c5941e-6d71-40b9-9da0-756450bf4464"
      },
      "execution_count": 19,
      "outputs": [
        {
          "output_type": "execute_result",
          "data": {
            "text/plain": [
              "<matplotlib.collections.PathCollection at 0x7fbfc70a1a50>"
            ]
          },
          "metadata": {},
          "execution_count": 19
        },
        {
          "output_type": "execute_result",
          "data": {
            "text/plain": [
              "[<matplotlib.lines.Line2D at 0x7fbfc70a1f90>]"
            ]
          },
          "metadata": {},
          "execution_count": 19
        },
        {
          "output_type": "execute_result",
          "data": {
            "text/plain": [
              "Text(0.5, 1.0, 'Sale Price and Livable Space Above Ground')"
            ]
          },
          "metadata": {},
          "execution_count": 19
        },
        {
          "output_type": "execute_result",
          "data": {
            "text/plain": [
              "Text(0.5, 0, 'Livable Space Above Ground: sqft')"
            ]
          },
          "metadata": {},
          "execution_count": 19
        },
        {
          "output_type": "execute_result",
          "data": {
            "text/plain": [
              "Text(0, 0.5, 'Sale Price')"
            ]
          },
          "metadata": {},
          "execution_count": 19
        },
        {
          "output_type": "display_data",
          "data": {
            "text/plain": [
              "<Figure size 432x432 with 1 Axes>"
            ],
            "image/png": "[encoded data removed]"
          },
          "metadata": {
            "needs_background": "light"
          }
        }
      ]
    },
    {
      "cell_type": "markdown",
      "source": [
        "### feature set 1"
      ],
      "metadata": {
        "id": "8H19IwxMX6-1"
      }
    },
    {
      "cell_type": "code",
      "source": [
        "# list of columns with year values\n",
        "year_features = ['YearBuilt','YearRemodAdd','GarageYrBlt','YrSold']\n",
        "\n",
        "# loop through each column in year list and generate boxplot\n",
        "for col in year_features:\n",
        "    sns.boxplot(x = data[col])\n",
        "    plt.title(\"{} Boxplot\".format(col))\n",
        "    plt.show()"
      ],
      "metadata": {
        "colab": {
          "base_uri": "https://localhost:8080/",
          "height": 1000
        },
        "id": "Eu2gOBEMtVFQ",
        "outputId": "bbcc2217-4699-44a5-854b-3ee3bd9e8011"
      },
      "execution_count": 20,
      "outputs": [
        {
          "output_type": "execute_result",
          "data": {
            "text/plain": [
              "<matplotlib.axes._subplots.AxesSubplot at 0x7fbfc70f7750>"
            ]
          },
          "metadata": {},
          "execution_count": 20
        },
        {
          "output_type": "execute_result",
          "data": {
            "text/plain": [
              "Text(0.5, 1.0, 'YearBuilt Boxplot')"
            ]
          },
          "metadata": {},
          "execution_count": 20
        },
        {
          "output_type": "display_data",
          "data": {
            "text/plain": [
              "<Figure size 432x288 with 1 Axes>"
            ],
            "image/png": "[encoded data removed]"
          },
          "metadata": {
            "needs_background": "light"
          }
        },
        {
          "output_type": "execute_result",
          "data": {
            "text/plain": [
              "<matplotlib.axes._subplots.AxesSubplot at 0x7fbfc6fda350>"
            ]
          },
          "metadata": {},
          "execution_count": 20
        },
        {
          "output_type": "execute_result",
          "data": {
            "text/plain": [
              "Text(0.5, 1.0, 'YearRemodAdd Boxplot')"
            ]
          },
          "metadata": {},
          "execution_count": 20
        },
        {
          "output_type": "display_data",
          "data": {
            "text/plain": [
              "<Figure size 432x288 with 1 Axes>"
            ],
            "image/png": "[encoded data removed]"
          },
          "metadata": {
            "needs_background": "light"
          }
        },
        {
          "output_type": "execute_result",
          "data": {
            "text/plain": [
              "<matplotlib.axes._subplots.AxesSubplot at 0x7fbfc6fb3b50>"
            ]
          },
          "metadata": {},
          "execution_count": 20
        },
        {
          "output_type": "execute_result",
          "data": {
            "text/plain": [
              "Text(0.5, 1.0, 'GarageYrBlt Boxplot')"
            ]
          },
          "metadata": {},
          "execution_count": 20
        },
        {
          "output_type": "display_data",
          "data": {
            "text/plain": [
              "<Figure size 432x288 with 1 Axes>"
            ],
            "image/png": "[encoded data removed]"
          },
          "metadata": {
            "needs_background": "light"
          }
        },
        {
          "output_type": "execute_result",
          "data": {
            "text/plain": [
              "<matplotlib.axes._subplots.AxesSubplot at 0x7fbfc6f326d0>"
            ]
          },
          "metadata": {},
          "execution_count": 20
        },
        {
          "output_type": "execute_result",
          "data": {
            "text/plain": [
              "Text(0.5, 1.0, 'YrSold Boxplot')"
            ]
          },
          "metadata": {},
          "execution_count": 20
        },
        {
          "output_type": "display_data",
          "data": {
            "text/plain": [
              "<Figure size 432x288 with 1 Axes>"
            ],
            "image/png": "[encoded data removed]"
          },
          "metadata": {
            "needs_background": "light"
          }
        }
      ]
    },
    {
      "cell_type": "code",
      "source": [
        "# list of names that will be used to name columns\n",
        "year_new_features = ['building_age','time_since_remod','garage_age', 'time_since_sale']\n",
        "\n",
        "# loop through both year lists, create a new column, subtract the most recent year (2010)\n",
        "# from each column to get relative age\n",
        "for year_feature, new_year_feature in zip(year_features, year_new_features):\n",
        "  data[new_year_feature] =  data.loc[:, year_features].max().max() - data[year_feature]\n",
        "\n",
        "# loop through and boxplot created features\n",
        "for col in year_new_features:\n",
        "    sns.boxplot(x = data[col])\n",
        "    plt.title(\"{} Boxplot\".format(col))\n",
        "    plt.show()"
      ],
      "metadata": {
        "colab": {
          "base_uri": "https://localhost:8080/",
          "height": 1000
        },
        "id": "cTv4tZv3uUIc",
        "outputId": "8388ca3a-3434-4e10-b76c-b2af7d00b06b"
      },
      "execution_count": 21,
      "outputs": [
        {
          "output_type": "execute_result",
          "data": {
            "text/plain": [
              "<matplotlib.axes._subplots.AxesSubplot at 0x7fbfc6fa8250>"
            ]
          },
          "metadata": {},
          "execution_count": 21
        },
        {
          "output_type": "execute_result",
          "data": {
            "text/plain": [
              "Text(0.5, 1.0, 'building_age Boxplot')"
            ]
          },
          "metadata": {},
          "execution_count": 21
        },
        {
          "output_type": "display_data",
          "data": {
            "text/plain": [
              "<Figure size 432x288 with 1 Axes>"
            ],
            "image/png": "[encoded data removed]"
          },
          "metadata": {
            "needs_background": "light"
          }
        },
        {
          "output_type": "execute_result",
          "data": {
            "text/plain": [
              "<matplotlib.axes._subplots.AxesSubplot at 0x7fbfc6e21c50>"
            ]
          },
          "metadata": {},
          "execution_count": 21
        },
        {
          "output_type": "execute_result",
          "data": {
            "text/plain": [
              "Text(0.5, 1.0, 'time_since_remod Boxplot')"
            ]
          },
          "metadata": {},
          "execution_count": 21
        },
        {
          "output_type": "display_data",
          "data": {
            "text/plain": [
              "<Figure size 432x288 with 1 Axes>"
            ],
            "image/png": "[encoded data removed]"
          },
          "metadata": {
            "needs_background": "light"
          }
        },
        {
          "output_type": "execute_result",
          "data": {
            "text/plain": [
              "<matplotlib.axes._subplots.AxesSubplot at 0x7fbfc6e10690>"
            ]
          },
          "metadata": {},
          "execution_count": 21
        },
        {
          "output_type": "execute_result",
          "data": {
            "text/plain": [
              "Text(0.5, 1.0, 'garage_age Boxplot')"
            ]
          },
          "metadata": {},
          "execution_count": 21
        },
        {
          "output_type": "display_data",
          "data": {
            "text/plain": [
              "<Figure size 432x288 with 1 Axes>"
            ],
            "image/png": "[encoded data removed]"
          },
          "metadata": {
            "needs_background": "light"
          }
        },
        {
          "output_type": "execute_result",
          "data": {
            "text/plain": [
              "<matplotlib.axes._subplots.AxesSubplot at 0x7fbfc6e10550>"
            ]
          },
          "metadata": {},
          "execution_count": 21
        },
        {
          "output_type": "execute_result",
          "data": {
            "text/plain": [
              "Text(0.5, 1.0, 'time_since_sale Boxplot')"
            ]
          },
          "metadata": {},
          "execution_count": 21
        },
        {
          "output_type": "display_data",
          "data": {
            "text/plain": [
              "<Figure size 432x288 with 1 Axes>"
            ],
            "image/png": "[encoded data removed]"
          },
          "metadata": {
            "needs_background": "light"
          }
        }
      ]
    },
    {
      "cell_type": "markdown",
      "source": [
        "### feature set 2"
      ],
      "metadata": {
        "id": "yRE9TI2XmGs2"
      }
    },
    {
      "cell_type": "code",
      "source": [
        "# try adding together GrLivArea, GarageArea, and TotalBsmtSF as a new feature\n",
        "data['AreaSum'] = data['GrLivArea'] + data['GarageArea'] + data['TotalBsmtSF']\n",
        "\n",
        "# create scatterplot to view this new AreaSum feature\n",
        "sns.scatterplot(data = data, x = 'AreaSum', y = 'SalePrice')"
      ],
      "metadata": {
        "colab": {
          "base_uri": "https://localhost:8080/",
          "height": 296
        },
        "id": "7hh5evM5mR0y",
        "outputId": "038b9d87-c2d1-4b99-c97f-c02dcc483659"
      },
      "execution_count": 22,
      "outputs": [
        {
          "output_type": "execute_result",
          "data": {
            "text/plain": [
              "<matplotlib.axes._subplots.AxesSubplot at 0x7fbfc6dfb710>"
            ]
          },
          "metadata": {},
          "execution_count": 22
        },
        {
          "output_type": "display_data",
          "data": {
            "text/plain": [
              "<Figure size 432x288 with 1 Axes>"
            ],
            "image/png": "[encoded data removed]"
          },
          "metadata": {
            "needs_background": "light"
          }
        }
      ]
    },
    {
      "cell_type": "code",
      "source": [
        "# show correlations with new AreaSum feature\n",
        "data.corr()['SalePrice'].sort_values(ascending = False)"
      ],
      "metadata": {
        "colab": {
          "base_uri": "https://localhost:8080/"
        },
        "id": "T2Dr0W6amZkm",
        "outputId": "a255e588-4824-46b5-f31f-87dcf43cbeea"
      },
      "execution_count": 23,
      "outputs": [
        {
          "output_type": "execute_result",
          "data": {
            "text/plain": [
              "SalePrice           1.000000\n",
              "AreaSum             0.807518\n",
              "OverallQual         0.790982\n",
              "GrLivArea           0.708624\n",
              "GarageCars          0.640409\n",
              "GarageArea          0.623431\n",
              "TotalBsmtSF         0.613581\n",
              "1stFlrSF            0.605852\n",
              "FullBath            0.560664\n",
              "TotRmsAbvGrd        0.533723\n",
              "YearBuilt           0.522897\n",
              "GarageYrBlt         0.508043\n",
              "YearRemodAdd        0.507101\n",
              "MasVnrArea          0.475241\n",
              "Fireplaces          0.466929\n",
              "BsmtFinSF1          0.386420\n",
              "WoodDeckSF          0.324413\n",
              "2ndFlrSF            0.319334\n",
              "OpenPorchSF         0.315856\n",
              "HalfBath            0.284108\n",
              "LotArea             0.263843\n",
              "BsmtFullBath        0.227122\n",
              "BsmtUnfSF           0.214479\n",
              "BedroomAbvGr        0.168213\n",
              "ScreenPorch         0.111447\n",
              "PoolArea            0.092404\n",
              "MoSold              0.046432\n",
              "3SsnPorch           0.044584\n",
              "time_since_sale     0.028923\n",
              "BsmtFinSF2         -0.011378\n",
              "BsmtHalfBath       -0.016844\n",
              "MiscVal            -0.021190\n",
              "Id                 -0.021917\n",
              "LowQualFinSF       -0.025606\n",
              "YrSold             -0.028923\n",
              "OverallCond        -0.077856\n",
              "MSSubClass         -0.084284\n",
              "EnclosedPorch      -0.128578\n",
              "KitchenAbvGr       -0.135907\n",
              "time_since_remod   -0.507101\n",
              "garage_age         -0.508043\n",
              "building_age       -0.522897\n",
              "Name: SalePrice, dtype: float64"
            ]
          },
          "metadata": {},
          "execution_count": 23
        }
      ]
    },
    {
      "cell_type": "markdown",
      "source": [
        "Creating this new AreaSum feature resulted in the highest correlation with SalePrice (approximately 0.81), providing a slight improvement over the OverallQual correlation with SalePrice (approximately 0.79). We can try to improve upon this further by combining these two features (AreaSum and OverallQual)."
      ],
      "metadata": {
        "id": "tokVQGmimkEN"
      }
    },
    {
      "cell_type": "code",
      "source": [
        "# try multiplying AreaSum and OverallQual features as a new feature\n",
        "data['AreaQual'] = data['AreaSum'] * data['OverallQual']\n",
        "\n",
        "# create scatterplot to view this new AreaQual feature\n",
        "sns.scatterplot(data = data, x = 'AreaQual', y = 'SalePrice')"
      ],
      "metadata": {
        "colab": {
          "base_uri": "https://localhost:8080/",
          "height": 296
        },
        "id": "adNMiwgcmuNR",
        "outputId": "925d10f6-22dd-4dfe-dd0a-cd9d46dce258"
      },
      "execution_count": 24,
      "outputs": [
        {
          "output_type": "execute_result",
          "data": {
            "text/plain": [
              "<matplotlib.axes._subplots.AxesSubplot at 0x7fbfc6c66550>"
            ]
          },
          "metadata": {},
          "execution_count": 24
        },
        {
          "output_type": "display_data",
          "data": {
            "text/plain": [
              "<Figure size 432x288 with 1 Axes>"
            ],
            "image/png": "[encoded data removed]"
          },
          "metadata": {
            "needs_background": "light"
          }
        }
      ]
    },
    {
      "cell_type": "code",
      "source": [
        "# show correlation of new AreaQual feature\n",
        "data.corr()['SalePrice']['AreaQual']"
      ],
      "metadata": {
        "colab": {
          "base_uri": "https://localhost:8080/"
        },
        "id": "m-zGleh7m0OB",
        "outputId": "ff192715-a28e-4bb7-b26f-70389108e2fd"
      },
      "execution_count": 25,
      "outputs": [
        {
          "output_type": "execute_result",
          "data": {
            "text/plain": [
              "0.8685876024971185"
            ]
          },
          "metadata": {},
          "execution_count": 25
        }
      ]
    },
    {
      "cell_type": "markdown",
      "source": [
        "As seen in the correlation result, creating this new AreaQual feature improved the correlation with SalePrice even further to approximately 0.87. From the scatterplot, we can see that this correlation may have been even higher, if not for a couple potential outliers.\n",
        "\n",
        "Outliers and influential values will prevent our model from generalizing. Let's remove those."
      ],
      "metadata": {
        "id": "qtiTqbn31J_6"
      }
    },
    {
      "cell_type": "code",
      "source": [
        "# limit data to those observations where AreaQual is less than 62000\n",
        "data = data[data['AreaQual'] < 62000]\n",
        "sns.scatterplot(data = data, x = 'AreaQual', y = 'SalePrice')"
      ],
      "metadata": {
        "colab": {
          "base_uri": "https://localhost:8080/",
          "height": 296
        },
        "id": "heFsfbxyzMFe",
        "outputId": "3bc41f68-ed7c-452f-810b-c7ae762dc25b"
      },
      "execution_count": 26,
      "outputs": [
        {
          "output_type": "execute_result",
          "data": {
            "text/plain": [
              "<matplotlib.axes._subplots.AxesSubplot at 0x7fbfc75671d0>"
            ]
          },
          "metadata": {},
          "execution_count": 26
        },
        {
          "output_type": "display_data",
          "data": {
            "text/plain": [
              "<Figure size 432x288 with 1 Axes>"
            ],
            "image/png": "[encoded data removed]"
          },
          "metadata": {
            "needs_background": "light"
          }
        }
      ]
    },
    {
      "cell_type": "code",
      "source": [
        "# check correlation of AreaQual and SalePrice with limited data\n",
        "data.corr()['SalePrice']['AreaQual']"
      ],
      "metadata": {
        "id": "pUQwy1f5wYQt",
        "colab": {
          "base_uri": "https://localhost:8080/"
        },
        "outputId": "c16622c5-388d-411a-80be-ed0de4213196"
      },
      "execution_count": 27,
      "outputs": [
        {
          "output_type": "execute_result",
          "data": {
            "text/plain": [
              "0.9192181381237393"
            ]
          },
          "metadata": {},
          "execution_count": 27
        }
      ]
    },
    {
      "cell_type": "markdown",
      "source": [
        "Removing the outliers improved the correlation significantly. It is now almost 0.92."
      ],
      "metadata": {
        "id": "fKHJa5eYwYj1"
      }
    },
    {
      "cell_type": "markdown",
      "source": [
        "## Initial/Baseline Model: Linear Regression"
      ],
      "metadata": {
        "id": "i1pbTCbYnhxm"
      }
    },
    {
      "cell_type": "code",
      "source": [
        "data = data.reset_index(drop=True)"
      ],
      "metadata": {
        "id": "65JDtgHD2ATR"
      },
      "execution_count": 28,
      "outputs": []
    },
    {
      "cell_type": "code",
      "source": [
        "# define the target and separate from features\n",
        "target = data['SalePrice']\n",
        "features = data.loc[:,data.columns != 'SalePrice']\n",
        "\n",
        "# standardize the features\n",
        "scaler = StandardScaler()\n",
        "features_scaled = scaler.fit_transform(features)\n",
        "features_df = pd.DataFrame(features_scaled, columns = features.columns)\n",
        "\n",
        "# simplify\n",
        "X = features_df\n",
        "y = target"
      ],
      "metadata": {
        "id": "6Sd95CSYoTKd"
      },
      "execution_count": 29,
      "outputs": []
    },
    {
      "cell_type": "code",
      "source": [
        "# 80:20 split\n",
        "x_train = X.iloc[:round(len(X)*0.80)]\n",
        "x_test = X.iloc[round(len(X)*0.80):]\n",
        "\n",
        "y_train = y.iloc[:round(len(y)*0.80)]\n",
        "y_test = y.iloc[round(len(y)*0.80):]\n",
        "\n",
        "# build simple linear regression model\n",
        "model = LinearRegression()\n",
        "\n",
        "# x_t = x_train['AreaQual'].reshape(-1,1)\n",
        "model.fit(x_train[['AreaQual']], y_train)\n",
        "\n",
        "predictions = model.predict(x_test[['AreaQual']])\n",
        "\n",
        "# calculate error\n",
        "lin_mse = mean_squared_error(y_test, predictions)\n",
        "r2 = r2_score(y_test, predictions)\n",
        "\n",
        "print('RMSE:', sqrt(lin_mse))\n",
        "print('R2:', r2)"
      ],
      "metadata": {
        "colab": {
          "base_uri": "https://localhost:8080/"
        },
        "id": "9mSrVbMwo78s",
        "outputId": "9d5986cc-9a6d-447f-93e6-26c003d2314f"
      },
      "execution_count": 30,
      "outputs": [
        {
          "output_type": "execute_result",
          "data": {
            "text/plain": [
              "LinearRegression()"
            ]
          },
          "metadata": {},
          "execution_count": 30
        },
        {
          "output_type": "stream",
          "name": "stdout",
          "text": [
            "RMSE: 28386.85143093815\n",
            "R2: 0.8378170839701096\n"
          ]
        }
      ]
    },
    {
      "cell_type": "markdown",
      "source": [
        "# Lasso Regression Requirement\n"
      ],
      "metadata": {
        "id": "P4s8pRuWGXi9"
      }
    },
    {
      "cell_type": "code",
      "source": [
        "# split the data into train test\n",
        "x2_train = X.iloc[:round(len(X)*0.80)]\n",
        "x2_test = X.iloc[round(len(X)*0.80):]\n",
        "\n",
        "y_train = y.iloc[:round(len(y)*0.80)]\n",
        "y_test = y.iloc[round(len(y)*0.80):]"
      ],
      "metadata": {
        "id": "8lbsURehMMhQ"
      },
      "execution_count": 31,
      "outputs": []
    },
    {
      "cell_type": "code",
      "source": [
        "# find optimal alpha\n",
        "lasso_cv_model = LassoCV(alphas = list(range(1,500)), cv = 5).fit(x2_train, y_train)\n",
        "lasso_cv_model.alpha_"
      ],
      "metadata": {
        "colab": {
          "base_uri": "https://localhost:8080/"
        },
        "id": "TIZ5kmSrGWqF",
        "outputId": "880a825a-e418-45d4-b579-1aea3f1de599"
      },
      "execution_count": 32,
      "outputs": [
        {
          "output_type": "execute_result",
          "data": {
            "text/plain": [
              "149"
            ]
          },
          "metadata": {},
          "execution_count": 32
        }
      ]
    },
    {
      "cell_type": "code",
      "source": [
        "# train lasso with optimal alpha\n",
        "lasso_2 = Lasso().set_params(alpha = lasso_cv_model.alpha_).fit(x2_train, y_train)\n",
        "\n",
        "# generate predictions\n",
        "lasso_2_predictions = lasso_2.predict(x2_test)\n",
        "\n",
        "# calculate error\n",
        "lin_mse = mean_squared_error(y_test, lasso_2_predictions)\n",
        "r2 = r2_score(y_test, lasso_2_predictions)\n",
        "\n",
        "print('RMSE:', sqrt(lin_mse))\n",
        "print('R2:', r2)"
      ],
      "metadata": {
        "colab": {
          "base_uri": "https://localhost:8080/"
        },
        "id": "zfGP78_oLX2S",
        "outputId": "1927e75a-da73-4827-b8cd-7759042f57fc"
      },
      "execution_count": 33,
      "outputs": [
        {
          "output_type": "stream",
          "name": "stdout",
          "text": [
            "RMSE: 24419.630253842075\n",
            "R2: 0.8799813263885188\n"
          ]
        }
      ]
    },
    {
      "cell_type": "code",
      "source": [
        "def adjusted_r2(R2, training_set):\n",
        "  return 1- ((1-R2)*(len(training_set)-1)/(len(training_set)-training_set.shape[1]-1))"
      ],
      "metadata": {
        "id": "mFHqQDkGh8ZP"
      },
      "execution_count": 34,
      "outputs": []
    },
    {
      "cell_type": "code",
      "source": [
        "adjusted_r2(r2, x2_train)"
      ],
      "metadata": {
        "colab": {
          "base_uri": "https://localhost:8080/"
        },
        "id": "yaodJcYlj1HE",
        "outputId": "9f687a0a-cb1c-43c4-f8c7-0315b6cf44b2"
      },
      "execution_count": 35,
      "outputs": [
        {
          "output_type": "execute_result",
          "data": {
            "text/plain": [
              "0.8754846410257335"
            ]
          },
          "metadata": {},
          "execution_count": 35
        }
      ]
    },
    {
      "cell_type": "code",
      "source": [
        "pd.Series(lasso_2.coef_, index = x2_train.columns)"
      ],
      "metadata": {
        "colab": {
          "base_uri": "https://localhost:8080/"
        },
        "id": "od1mj-7IOOiV",
        "outputId": "88a6f281-6032-4a6f-81a2-ecb6cab5afdd"
      },
      "execution_count": 36,
      "outputs": [
        {
          "output_type": "execute_result",
          "data": {
            "text/plain": [
              "Id                    152.146796\n",
              "MSSubClass          -3384.881659\n",
              "LotArea              5691.374152\n",
              "OverallQual        -21140.187908\n",
              "OverallCond          6214.427991\n",
              "YearBuilt            2827.985446\n",
              "YearRemodAdd         1466.409398\n",
              "MasVnrArea           1499.674509\n",
              "BsmtFinSF1              0.000000\n",
              "BsmtFinSF2          -2203.649339\n",
              "BsmtUnfSF           -8089.157892\n",
              "TotalBsmtSF         -3104.315776\n",
              "1stFlrSF            -2258.041122\n",
              "2ndFlrSF                0.000000\n",
              "LowQualFinSF        -1013.298251\n",
              "GrLivArea              -0.000000\n",
              "BsmtFullBath         1504.099329\n",
              "BsmtHalfBath         -521.720169\n",
              "FullBath             1058.541289\n",
              "HalfBath              982.489900\n",
              "BedroomAbvGr        -5098.020616\n",
              "KitchenAbvGr        -2658.690323\n",
              "TotRmsAbvGrd         6951.367688\n",
              "Fireplaces           2195.671446\n",
              "GarageYrBlt             0.000000\n",
              "GarageCars           1823.981935\n",
              "GarageArea          -5743.939004\n",
              "WoodDeckSF            510.481242\n",
              "OpenPorchSF           291.793635\n",
              "EnclosedPorch         973.455249\n",
              "3SsnPorch               0.000000\n",
              "ScreenPorch          2959.376561\n",
              "PoolArea            -1852.829801\n",
              "MiscVal                -0.000000\n",
              "MoSold               -122.433965\n",
              "YrSold               -778.436403\n",
              "building_age        -8997.695755\n",
              "time_since_remod    -3439.930913\n",
              "garage_age             -0.000000\n",
              "time_since_sale       420.610747\n",
              "AreaSum             -9519.235940\n",
              "AreaQual            91990.716417\n",
              "dtype: float64"
            ]
          },
          "metadata": {},
          "execution_count": 36
        }
      ]
    },
    {
      "cell_type": "markdown",
      "source": [
        "### Test Set predictions - Lasso Regression"
      ],
      "metadata": {
        "id": "61Uqexayk4k_"
      }
    },
    {
      "cell_type": "code",
      "source": [
        "# Upload House Prices test file\n",
        "uploaded = files.upload()\n",
        " \n",
        "data = pd.read_csv(io.BytesIO(uploaded['test.csv']))"
      ],
      "metadata": {
        "id": "-mqSiXuxk7HB",
        "colab": {
          "base_uri": "https://localhost:8080/",
          "height": 73
        },
        "outputId": "818f14ef-d050-4432-bb15-09ba0840f3e9"
      },
      "execution_count": 37,
      "outputs": [
        {
          "output_type": "display_data",
          "data": {
            "text/plain": [
              "<IPython.core.display.HTML object>"
            ],
            "text/html": [
              "\n",
              "     <input type=\"file\" id=\"files-b8f8a11a-997c-4d52-ab1c-bfdbe8c09092\" name=\"files[]\" multiple disabled\n",
              "        style=\"border:none\" />\n",
              "     <output id=\"result-b8f8a11a-997c-4d52-ab1c-bfdbe8c09092\">\n",
              "      Upload widget is only available when the cell has been executed in the\n",
              "      current browser session. Please rerun this cell to enable.\n",
              "      </output>\n",
              "      <script>// Copyright 2017 Google LLC\n",
              "//\n",
              "// Licensed under the Apache License, Version 2.0 (the \"License\");\n",
              "// you may not use this file except in compliance with the License.\n",
              "// You may obtain a copy of the License at\n",
              "//\n",
              "//      http://www.apache.org/licenses/LICENSE-2.0\n",
              "//\n",
              "// Unless required by applicable law or agreed to in writing, software\n",
              "// distributed under the License is distributed on an \"AS IS\" BASIS,\n",
              "// WITHOUT WARRANTIES OR CONDITIONS OF ANY KIND, either express or implied.\n",
              "// See the License for the specific language governing permissions and\n",
              "// limitations under the License.\n",
              "\n",
              "/**\n",
              " * @fileoverview Helpers for google.colab Python module.\n",
              " */\n",
              "(function(scope) {\n",
              "function span(text, styleAttributes = {}) {\n",
              "  const element = document.createElement('span');\n",
              "  element.textContent = text;\n",
              "  for (const key of Object.keys(styleAttributes)) {\n",
              "    element.style[key] = styleAttributes[key];\n",
              "  }\n",
              "  return element;\n",
              "}\n",
              "\n",
              "// Max number of bytes which will be uploaded at a time.\n",
              "const MAX_PAYLOAD_SIZE = 100 * 1024;\n",
              "\n",
              "function _uploadFiles(inputId, outputId) {\n",
              "  const steps = uploadFilesStep(inputId, outputId);\n",
              "  const outputElement = document.getElementById(outputId);\n",
              "  // Cache steps on the outputElement to make it available for the next call\n",
              "  // to uploadFilesContinue from Python.\n",
              "  outputElement.steps = steps;\n",
              "\n",
              "  return _uploadFilesContinue(outputId);\n",
              "}\n",
              "\n",
              "// This is roughly an async generator (not supported in the browser yet),\n",
              "// where there are multiple asynchronous steps and the Python side is going\n",
              "// to poll for completion of each step.\n",
              "// This uses a Promise to block the python side on completion of each step,\n",
              "// then passes the result of the previous step as the input to the next step.\n",
              "function _uploadFilesContinue(outputId) {\n",
              "  const outputElement = document.getElementById(outputId);\n",
              "  const steps = outputElement.steps;\n",
              "\n",
              "  const next = steps.next(outputElement.lastPromiseValue);\n",
              "  return Promise.resolve(next.value.promise).then((value) => {\n",
              "    // Cache the last promise value to make it available to the next\n",
              "    // step of the generator.\n",
              "    outputElement.lastPromiseValue = value;\n",
              "    return next.value.response;\n",
              "  });\n",
              "}\n",
              "\n",
              "/**\n",
              " * Generator function which is called between each async step of the upload\n",
              " * process.\n",
              " * @param {string} inputId Element ID of the input file picker element.\n",
              " * @param {string} outputId Element ID of the output display.\n",
              " * @return {!Iterable<!Object>} Iterable of next steps.\n",
              " */\n",
              "function* uploadFilesStep(inputId, outputId) {\n",
              "  const inputElement = document.getElementById(inputId);\n",
              "  inputElement.disabled = false;\n",
              "\n",
              "  const outputElement = document.getElementById(outputId);\n",
              "  outputElement.innerHTML = '';\n",
              "\n",
              "  const pickedPromise = new Promise((resolve) => {\n",
              "    inputElement.addEventListener('change', (e) => {\n",
              "      resolve(e.target.files);\n",
              "    });\n",
              "  });\n",
              "\n",
              "  const cancel = document.createElement('button');\n",
              "  inputElement.parentElement.appendChild(cancel);\n",
              "  cancel.textContent = 'Cancel upload';\n",
              "  const cancelPromise = new Promise((resolve) => {\n",
              "    cancel.onclick = () => {\n",
              "      resolve(null);\n",
              "    };\n",
              "  });\n",
              "\n",
              "  // Wait for the user to pick the files.\n",
              "  const files = yield {\n",
              "    promise: Promise.race([pickedPromise, cancelPromise]),\n",
              "    response: {\n",
              "      action: 'starting',\n",
              "    }\n",
              "  };\n",
              "\n",
              "  cancel.remove();\n",
              "\n",
              "  // Disable the input element since further picks are not allowed.\n",
              "  inputElement.disabled = true;\n",
              "\n",
              "  if (!files) {\n",
              "    return {\n",
              "      response: {\n",
              "        action: 'complete',\n",
              "      }\n",
              "    };\n",
              "  }\n",
              "\n",
              "  for (const file of files) {\n",
              "    const li = document.createElement('li');\n",
              "    li.append(span(file.name, {fontWeight: 'bold'}));\n",
              "    li.append(span(\n",
              "        `(${file.type || 'n/a'}) - ${file.size} bytes, ` +\n",
              "        `last modified: ${\n",
              "            file.lastModifiedDate ? file.lastModifiedDate.toLocaleDateString() :\n",
              "                                    'n/a'} - `));\n",
              "    const percent = span('0% done');\n",
              "    li.appendChild(percent);\n",
              "\n",
              "    outputElement.appendChild(li);\n",
              "\n",
              "    const fileDataPromise = new Promise((resolve) => {\n",
              "      const reader = new FileReader();\n",
              "      reader.onload = (e) => {\n",
              "        resolve(e.target.result);\n",
              "      };\n",
              "      reader.readAsArrayBuffer(file);\n",
              "    });\n",
              "    // Wait for the data to be ready.\n",
              "    let fileData = yield {\n",
              "      promise: fileDataPromise,\n",
              "      response: {\n",
              "        action: 'continue',\n",
              "      }\n",
              "    };\n",
              "\n",
              "    // Use a chunked sending to avoid message size limits. See b/62115660.\n",
              "    let position = 0;\n",
              "    do {\n",
              "      const length = Math.min(fileData.byteLength - position, MAX_PAYLOAD_SIZE);\n",
              "      const chunk = new Uint8Array(fileData, position, length);\n",
              "      position += length;\n",
              "\n",
              "      const base64 = btoa(String.fromCharCode.apply(null, chunk));\n",
              "      yield {\n",
              "        response: {\n",
              "          action: 'append',\n",
              "          file: file.name,\n",
              "          data: base64,\n",
              "        },\n",
              "      };\n",
              "\n",
              "      let percentDone = fileData.byteLength === 0 ?\n",
              "          100 :\n",
              "          Math.round((position / fileData.byteLength) * 100);\n",
              "      percent.textContent = `${percentDone}% done`;\n",
              "\n",
              "    } while (position < fileData.byteLength);\n",
              "  }\n",
              "\n",
              "  // All done.\n",
              "  yield {\n",
              "    response: {\n",
              "      action: 'complete',\n",
              "    }\n",
              "  };\n",
              "}\n",
              "\n",
              "scope.google = scope.google || {};\n",
              "scope.google.colab = scope.google.colab || {};\n",
              "scope.google.colab._files = {\n",
              "  _uploadFiles,\n",
              "  _uploadFilesContinue,\n",
              "};\n",
              "})(self);\n",
              "</script> "
            ]
          },
          "metadata": {}
        },
        {
          "output_type": "stream",
          "name": "stdout",
          "text": [
            "Saving test.csv to test (1).csv\n"
          ]
        }
      ]
    },
    {
      "cell_type": "code",
      "source": [
        "# save data ids\n",
        "ids = data['Id']"
      ],
      "metadata": {
        "id": "Wxq8p9_AF99I"
      },
      "execution_count": 38,
      "outputs": []
    },
    {
      "cell_type": "code",
      "source": [
        "# Dropping categorical variables to 1) avoid too many features and \n",
        "# 2) to drop features with missing many values\n",
        "numerics = ['int16', 'int32', 'int64', 'float16', 'float32', 'float64']\n",
        "data_numerics_only = data.select_dtypes(include=numerics)"
      ],
      "metadata": {
        "id": "UhI-422tn_Ha"
      },
      "execution_count": 39,
      "outputs": []
    },
    {
      "cell_type": "code",
      "source": [
        "# fill GarageYrBlt missing values with corresponding YearBuilt values\n",
        "data_numerics_only['GarageYrBlt'].fillna(data_numerics_only['YearBuilt'], inplace=True)\n",
        "\n",
        "# drop LotFrontage feature\n",
        "data_numerics_only.drop(['LotFrontage'], axis=1, inplace=True)\n",
        "\n",
        "# impute MasVnrArea missing values with mean value\n",
        "data_numerics_only['MasVnrArea'].fillna(data_numerics_only['MasVnrArea'].mean(), inplace=True)\n",
        "\n",
        "# view new DataFrame info to ensure no missing values\n",
        "data = data_numerics_only.copy()"
      ],
      "metadata": {
        "id": "L58CXplgn_tk",
        "colab": {
          "base_uri": "https://localhost:8080/"
        },
        "outputId": "f24dbc73-2145-48bc-bafb-e67363af159b"
      },
      "execution_count": 40,
      "outputs": [
        {
          "output_type": "stream",
          "name": "stderr",
          "text": [
            "/usr/local/lib/python3.7/dist-packages/pandas/core/generic.py:6392: SettingWithCopyWarning: \n",
            "A value is trying to be set on a copy of a slice from a DataFrame\n",
            "\n",
            "See the caveats in the documentation: https://pandas.pydata.org/pandas-docs/stable/user_guide/indexing.html#returning-a-view-versus-a-copy\n",
            "  return self._update_inplace(result)\n",
            "/usr/local/lib/python3.7/dist-packages/pandas/core/frame.py:4913: SettingWithCopyWarning: \n",
            "A value is trying to be set on a copy of a slice from a DataFrame\n",
            "\n",
            "See the caveats in the documentation: https://pandas.pydata.org/pandas-docs/stable/user_guide/indexing.html#returning-a-view-versus-a-copy\n",
            "  errors=errors,\n"
          ]
        }
      ]
    },
    {
      "cell_type": "code",
      "source": [
        "# Adding new features to the test set\n",
        "year_features = ['YearBuilt','YearRemodAdd']\n",
        "year_new_features = ['building_age','time_since_remod']\n",
        "for year_feature, new_year_feature in zip(year_features, year_new_features):\n",
        "  data[new_year_feature] =  data.loc[:, year_features].max().max() - data[year_feature]\n",
        "\n",
        "data['AreaSum'] = data['GrLivArea'] + data['GarageArea'] + data['TotalBsmtSF']\n",
        "data['AreaQual'] = data['AreaSum'] * data['OverallQual']"
      ],
      "metadata": {
        "id": "D4OozT7DokfG"
      },
      "execution_count": 41,
      "outputs": []
    },
    {
      "cell_type": "code",
      "source": [
        "# Filling in a few rows still having NaNs\n",
        "data.fillna(0, inplace=True)"
      ],
      "metadata": {
        "id": "OvjQZZVswLMF"
      },
      "execution_count": 42,
      "outputs": []
    },
    {
      "cell_type": "code",
      "source": [
        "# normalize the data\n",
        "\n",
        "features = data.loc[:,data.columns != 'SalePrice']\n",
        "scaler = StandardScaler()\n",
        "features_scaled = scaler.fit_transform(features)\n",
        "data = pd.DataFrame(features_scaled, columns = features.columns)\n",
        "\n",
        "# limit the features to those included in X\n",
        "X_test = pd.DataFrame()\n",
        "for column in X.columns:\n",
        "  if column in data.columns:\n",
        "    X_test[column] = data[column]\n",
        "  else:\n",
        "    print(f'Note: The testing features do not include {column}.')"
      ],
      "metadata": {
        "id": "pOUksKnztpov",
        "colab": {
          "base_uri": "https://localhost:8080/"
        },
        "outputId": "eef10842-b6fc-463b-fcf3-0ff32205ed54"
      },
      "execution_count": 43,
      "outputs": [
        {
          "output_type": "stream",
          "name": "stdout",
          "text": [
            "Note: The testing features do not include garage_age.\n",
            "Note: The testing features do not include time_since_sale.\n"
          ]
        }
      ]
    },
    {
      "cell_type": "code",
      "source": [
        "# identify differences in X and X_test\n",
        "difference = list(set(X.columns.tolist())- set(X_test.columns.tolist()))\n",
        "difference"
      ],
      "metadata": {
        "id": "mPAeeWQWb5ad",
        "colab": {
          "base_uri": "https://localhost:8080/"
        },
        "outputId": "c667f482-f278-4a6e-91f8-af1e6452f057"
      },
      "execution_count": 44,
      "outputs": [
        {
          "output_type": "execute_result",
          "data": {
            "text/plain": [
              "['garage_age', 'time_since_sale']"
            ]
          },
          "metadata": {},
          "execution_count": 44
        }
      ]
    },
    {
      "cell_type": "code",
      "source": [
        "# remove differences\n",
        "X = X.drop(difference, axis = 1)"
      ],
      "metadata": {
        "id": "GTzWR0Lsb6gh"
      },
      "execution_count": 45,
      "outputs": []
    },
    {
      "cell_type": "code",
      "source": [
        "# Build model, fit it, and predict results here"
      ],
      "metadata": {
        "id": "L3drMGQ6tpzw"
      },
      "execution_count": 46,
      "outputs": []
    },
    {
      "cell_type": "code",
      "source": [
        "lasso_cv_model = LassoCV(alphas = list(range(1,500)), cv = 5).fit(X, y)\n",
        "lasso_cv_model.alpha_"
      ],
      "metadata": {
        "id": "JQLQYBUpYcsx",
        "colab": {
          "base_uri": "https://localhost:8080/"
        },
        "outputId": "235020ad-f19b-408e-dbfb-b5f43f5207d7"
      },
      "execution_count": 47,
      "outputs": [
        {
          "output_type": "execute_result",
          "data": {
            "text/plain": [
              "74"
            ]
          },
          "metadata": {},
          "execution_count": 47
        }
      ]
    },
    {
      "cell_type": "code",
      "source": [
        "# train lasso with optimal alpha\n",
        "lasso_2 = Lasso().set_params(alpha = lasso_cv_model.alpha_).fit(X, y)\n",
        "\n",
        "# generate predictions\n",
        "results = lasso_2.predict(X_test)"
      ],
      "metadata": {
        "id": "Sl5xu4eHZHD_"
      },
      "execution_count": 48,
      "outputs": []
    },
    {
      "cell_type": "code",
      "source": [
        "results = pd.DataFrame({'Id': ids, 'SalePrice': results}).set_index('Id')\n",
        "results.to_csv('Lasso_regression_results.csv')"
      ],
      "metadata": {
        "id": "Ps834XuwxyQ8"
      },
      "execution_count": 49,
      "outputs": []
    },
    {
      "cell_type": "markdown",
      "source": [
        "## Ridge Regression Requirement"
      ],
      "metadata": {
        "id": "TWPvxdmIqkCf"
      }
    },
    {
      "cell_type": "code",
      "source": [
        "# Train/test split\n",
        "# split the data into train test\n",
        "x2_train = X.iloc[:round(len(X)*0.80)]\n",
        "x2_test = X.iloc[round(len(X)*0.80):]\n",
        "\n",
        "y_train = y.iloc[:round(len(y)*0.80)]\n",
        "y_test = y.iloc[round(len(y)*0.80):]"
      ],
      "metadata": {
        "id": "LA75EfrGsVr-"
      },
      "execution_count": 50,
      "outputs": []
    },
    {
      "cell_type": "code",
      "source": [
        "# Find optimal alpha for Ridge Regression model (optimal alpha = 1)\n",
        "regr_cv = RidgeCV(alphas = list(range(1,500)), cv = 5).fit(x2_train, y_train)\n",
        "regr_cv.alpha_"
      ],
      "metadata": {
        "id": "iKZmQCzxKCTF",
        "colab": {
          "base_uri": "https://localhost:8080/"
        },
        "outputId": "8dad973b-a515-434b-b59a-7cfd75515fa5"
      },
      "execution_count": 51,
      "outputs": [
        {
          "output_type": "execute_result",
          "data": {
            "text/plain": [
              "1"
            ]
          },
          "metadata": {},
          "execution_count": 51
        }
      ]
    },
    {
      "cell_type": "code",
      "source": [
        "# Define, fit, predict\n",
        "model = Ridge(alpha=regr_cv.alpha_)\n",
        "model.fit(x2_train, y_train)\n",
        "Ridge_Regression_predictions = model.predict(x2_test)"
      ],
      "metadata": {
        "id": "fYG2ooZDqpBa",
        "colab": {
          "base_uri": "https://localhost:8080/"
        },
        "outputId": "b81bd2fd-4e9d-437e-e42e-2fa3b0338978"
      },
      "execution_count": 52,
      "outputs": [
        {
          "output_type": "execute_result",
          "data": {
            "text/plain": [
              "Ridge(alpha=1)"
            ]
          },
          "metadata": {},
          "execution_count": 52
        }
      ]
    },
    {
      "cell_type": "code",
      "source": [
        "# calculate R2 and RMSE\n",
        "test_r2 = sklearn.metrics.r2_score(y_test, Ridge_Regression_predictions)\n",
        "test_rmse = sklearn.metrics.mean_squared_error(y_test, Ridge_Regression_predictions)\n",
        "print('R2 = ', test_r2, 'RMSE = ', test_rmse)"
      ],
      "metadata": {
        "id": "TEWc_KDcMJnb",
        "colab": {
          "base_uri": "https://localhost:8080/"
        },
        "outputId": "70d1d08c-b273-44c6-b418-799adec7c507"
      },
      "execution_count": 53,
      "outputs": [
        {
          "output_type": "stream",
          "name": "stdout",
          "text": [
            "R2 =  0.8783682345753878 RMSE =  604333063.1616719\n"
          ]
        }
      ]
    },
    {
      "cell_type": "markdown",
      "source": [
        "LASSO performed slightly better than Ridge Regression on the test data (training.csv data)."
      ],
      "metadata": {
        "id": "bLa7HwaOLLo-"
      }
    },
    {
      "cell_type": "markdown",
      "source": [
        "### Test set predictions - Ridge Regression"
      ],
      "metadata": {
        "id": "it4EBySruwx5"
      }
    },
    {
      "cell_type": "code",
      "source": [
        "# Remove any columns missing from test data from x2_train, and refit model\n",
        "x2_train = x2_train[list(data.columns)]\n",
        "model.fit(x2_train, y_train)\n",
        "\n",
        "# Predict fitted model on test set data (data already scaled and features were added from above)\n",
        "Ridge_regression_test_predictions = model.predict(X_test)"
      ],
      "metadata": {
        "id": "QXQGNzyJqpMR",
        "colab": {
          "base_uri": "https://localhost:8080/"
        },
        "outputId": "6287ee9d-be8f-4009-e0d5-3e7f1f27f1ac"
      },
      "execution_count": 54,
      "outputs": [
        {
          "output_type": "execute_result",
          "data": {
            "text/plain": [
              "Ridge(alpha=1)"
            ]
          },
          "metadata": {},
          "execution_count": 54
        }
      ]
    },
    {
      "cell_type": "markdown",
      "source": [
        "## Elastic Net Requirement"
      ],
      "metadata": {
        "id": "R_Y70Ywwqqru"
      }
    },
    {
      "cell_type": "code",
      "source": [
        "# separate data into train and test data\n",
        "X2_train, X2_test, y_train, y_test = train_test_split(X, y, test_size = 0.2)\n",
        "\n",
        "# build Elastic Net model with various l1_ratio and alpha values, and fit to data\n",
        "l1_ratios = np.arange(0.1, 1.1, 0.1)\n",
        "alphas = range(1, 101)\n",
        "model = ElasticNetCV(l1_ratio = l1_ratios, alphas = alphas, cv = 5, max_iter = 100000)\n",
        "model.fit(X, y)\n",
        "\n",
        "# display optimal l1_ratio and alpha, as well as calculated coefficients\n",
        "print(f'Optimal l1_ratio: {model.l1_ratio_}')\n",
        "print(f'Optimal alpha: {model.alpha_}')\n",
        "print(f'Calculated coefficients: \\n{pd.Series(model.coef_, index = X2_train.columns)}')\n",
        "\n",
        "# use model to predict train and test data\n",
        "y_train_pred = model.predict(X2_train)\n",
        "y_test_pred = model.predict(X2_test)\n",
        "\n",
        "# calculate R2 for train and test data to compare\n",
        "train_r2 = sklearn.metrics.r2_score(y_train, y_train_pred)\n",
        "test_r2 = sklearn.metrics.r2_score(y_test, y_test_pred)\n",
        "\n",
        "# calculate RMSE for train and test data to compare\n",
        "train_rmse = sklearn.metrics.mean_squared_error(y_train, y_train_pred, squared = False)\n",
        "test_rmse = sklearn.metrics.mean_squared_error(y_test, y_test_pred, squared = False)\n",
        "                                                \n",
        "# display results\n",
        "print(f'Train R2: {train_r2}\\nTrain RMSE: {train_rmse}\\nTest R2: {test_r2}\\nTest RMSE: {test_rmse}')"
      ],
      "metadata": {
        "id": "p1akHv7xyV3T",
        "colab": {
          "base_uri": "https://localhost:8080/"
        },
        "outputId": "cf9bbaa8-6d78-4d1a-9719-f6f03c43de38"
      },
      "execution_count": 55,
      "outputs": [
        {
          "output_type": "execute_result",
          "data": {
            "text/plain": [
              "ElasticNetCV(alphas=range(1, 101), cv=5,\n",
              "             l1_ratio=array([0.1, 0.2, 0.3, 0.4, 0.5, 0.6, 0.7, 0.8, 0.9, 1. ]),\n",
              "             max_iter=100000)"
            ]
          },
          "metadata": {},
          "execution_count": 55
        },
        {
          "output_type": "stream",
          "name": "stdout",
          "text": [
            "Optimal l1_ratio: 1.0\n",
            "Optimal alpha: 74\n",
            "Calculated coefficients: \n",
            "Id                    -79.390440\n",
            "MSSubClass          -2524.536158\n",
            "LotArea              5797.146238\n",
            "OverallQual        -24289.668884\n",
            "OverallCond          7111.609952\n",
            "YearBuilt            6076.258749\n",
            "YearRemodAdd         2169.173518\n",
            "MasVnrArea            976.419242\n",
            "BsmtFinSF1              0.000000\n",
            "BsmtFinSF2          -2614.338315\n",
            "BsmtUnfSF           -8031.174119\n",
            "TotalBsmtSF         -2301.307522\n",
            "1stFlrSF            -2475.314214\n",
            "2ndFlrSF                0.000000\n",
            "LowQualFinSF        -1365.705883\n",
            "GrLivArea              -0.000000\n",
            "BsmtFullBath         1734.140401\n",
            "BsmtHalfBath         -329.551121\n",
            "FullBath              629.397803\n",
            "HalfBath              598.499098\n",
            "BedroomAbvGr        -4178.856425\n",
            "KitchenAbvGr        -2465.581098\n",
            "TotRmsAbvGrd         5765.000115\n",
            "Fireplaces           2853.925899\n",
            "GarageYrBlt           326.999848\n",
            "GarageCars           4435.379663\n",
            "GarageArea          -7234.157609\n",
            "WoodDeckSF           1057.408349\n",
            "OpenPorchSF          1066.246900\n",
            "EnclosedPorch         964.028132\n",
            "3SsnPorch             997.541023\n",
            "ScreenPorch          2528.776046\n",
            "PoolArea              -17.611293\n",
            "MiscVal              -342.306731\n",
            "MoSold                263.311412\n",
            "YrSold               -640.436787\n",
            "building_age        -5653.299938\n",
            "time_since_remod    -1633.050430\n",
            "AreaSum            -14187.715943\n",
            "AreaQual            98399.233244\n",
            "dtype: float64\n",
            "Train R2: 0.9055960179885538\n",
            "Train RMSE: 22745.16634983326\n",
            "Test R2: 0.9148946284904502\n",
            "Test RMSE: 24053.403099647036\n"
          ]
        }
      ]
    },
    {
      "cell_type": "code",
      "source": [
        "# build Elastic Net model using GridSearchCV to try various l1_ratio, alpha,\n",
        "# and tol values, and fit to data\n",
        "l1_ratios = np.arange(0.1, 1.1, 0.1)\n",
        "alphas = range(1, 101)\n",
        "param_grid = {'alpha': alphas, 'l1_ratio': l1_ratios, 'tol': [1e-5, 1e-4, 1e-3]}\n",
        "model = GridSearchCV(ElasticNet(max_iter = 100000), param_grid, scoring = 'neg_root_mean_squared_error', cv = 5)\n",
        "model.fit(X, y)\n",
        "\n",
        "# display optimal l1_ratio, alpha, and tol, as well as DataFrame of top 5\n",
        "# combinations of these hyperparameters\n",
        "print(f'\\nOptimal parameters: {model.best_params_}')\n",
        "pd.DataFrame(model.cv_results_).sort_values('rank_test_score').head()\n",
        "\n",
        "# use model to predict train and test data\n",
        "y_train_pred = model.predict(X2_train)\n",
        "y_test_pred = model.predict(X2_test)\n",
        "\n",
        "# calculate R2 for train and test data to compare\n",
        "train_r2 = sklearn.metrics.r2_score(y_train, y_train_pred)\n",
        "test_r2 = sklearn.metrics.r2_score(y_test, y_test_pred)\n",
        "\n",
        "# calculate RMSE for train and test data to compare\n",
        "train_rmse = sklearn.metrics.mean_squared_error(y_train, y_train_pred, squared = False)\n",
        "test_rmse = sklearn.metrics.mean_squared_error(y_test, y_test_pred, squared = False)\n",
        "                                                \n",
        "# display results\n",
        "print(f'Train R2: {train_r2}\\nTrain RMSE: {train_rmse}\\nTest R2: {test_r2}\\nTest RMSE: {test_rmse}')"
      ],
      "metadata": {
        "id": "qII83CjjqoP9",
        "colab": {
          "base_uri": "https://localhost:8080/",
          "height": 380
        },
        "outputId": "e058a348-95a7-4b46-b6f3-20a5e9c41475"
      },
      "execution_count": 56,
      "outputs": [
        {
          "output_type": "execute_result",
          "data": {
            "text/plain": [
              "GridSearchCV(cv=5, estimator=ElasticNet(max_iter=100000),\n",
              "             param_grid={'alpha': range(1, 101),\n",
              "                         'l1_ratio': array([0.1, 0.2, 0.3, 0.4, 0.5, 0.6, 0.7, 0.8, 0.9, 1. ]),\n",
              "                         'tol': [1e-05, 0.0001, 0.001]},\n",
              "             scoring='neg_root_mean_squared_error')"
            ]
          },
          "metadata": {},
          "execution_count": 56
        },
        {
          "output_type": "stream",
          "name": "stdout",
          "text": [
            "\n",
            "Optimal parameters: {'alpha': 80, 'l1_ratio': 1.0, 'tol': 1e-05}\n"
          ]
        },
        {
          "output_type": "execute_result",
          "data": {
            "text/plain": [
              "      mean_fit_time  std_fit_time  mean_score_time  std_score_time  \\\n",
              "2397       0.034389      0.005710         0.003026        0.000044   \n",
              "2427       0.033962      0.006963         0.002938        0.000045   \n",
              "2367       0.034408      0.005821         0.004221        0.002423   \n",
              "2337       0.035204      0.005989         0.003015        0.000046   \n",
              "2307       0.035668      0.005954         0.004401        0.002707   \n",
              "\n",
              "     param_alpha param_l1_ratio param_tol  \\\n",
              "2397          80            1.0   0.00001   \n",
              "2427          81            1.0   0.00001   \n",
              "2367          79            1.0   0.00001   \n",
              "2337          78            1.0   0.00001   \n",
              "2307          77            1.0   0.00001   \n",
              "\n",
              "                                            params  split0_test_score  \\\n",
              "2397  {'alpha': 80, 'l1_ratio': 1.0, 'tol': 1e-05}      -24140.001408   \n",
              "2427  {'alpha': 81, 'l1_ratio': 1.0, 'tol': 1e-05}      -24140.060056   \n",
              "2367  {'alpha': 79, 'l1_ratio': 1.0, 'tol': 1e-05}      -24139.953798   \n",
              "2337  {'alpha': 78, 'l1_ratio': 1.0, 'tol': 1e-05}      -24139.816191   \n",
              "2307  {'alpha': 77, 'l1_ratio': 1.0, 'tol': 1e-05}      -24139.669518   \n",
              "\n",
              "      split1_test_score  split2_test_score  split3_test_score  \\\n",
              "2397      -21453.953146      -26449.590340      -23769.287935   \n",
              "2427      -21449.739734      -26452.537071      -23771.454734   \n",
              "2367      -21458.186016      -26446.654861      -23767.132426   \n",
              "2337      -21462.441217      -26443.730680      -23764.987316   \n",
              "2307      -21466.716390      -26440.806059      -23762.853723   \n",
              "\n",
              "      split4_test_score  mean_test_score  std_test_score  rank_test_score  \n",
              "2397      -24481.474810    -24058.861528     1598.134567                1  \n",
              "2427      -24480.545376    -24058.867394     1600.263245                2  \n",
              "2367      -24482.416421    -24058.868704     1596.004429                3  \n",
              "2337      -24483.372200    -24058.869520     1593.871032                4  \n",
              "2307      -24484.341865    -24058.877511     1591.732404                5  "
            ],
            "text/html": [
              "\n",
              "  <div id=\"df-25f13f71-8785-473d-896e-00862e6042e3\">\n",
              "    <div class=\"colab-df-container\">\n",
              "      <div>\n",
              "<style scoped>\n",
              "    .dataframe tbody tr th:only-of-type {\n",
              "        vertical-align: middle;\n",
              "    }\n",
              "\n",
              "    .dataframe tbody tr th {\n",
              "        vertical-align: top;\n",
              "    }\n",
              "\n",
              "    .dataframe thead th {\n",
              "        text-align: right;\n",
              "    }\n",
              "</style>\n",
              "<table border=\"1\" class=\"dataframe\">\n",
              "  <thead>\n",
              "    <tr style=\"text-align: right;\">\n",
              "      <th></th>\n",
              "      <th>mean_fit_time</th>\n",
              "      <th>std_fit_time</th>\n",
              "      <th>mean_score_time</th>\n",
              "      <th>std_score_time</th>\n",
              "      <th>param_alpha</th>\n",
              "      <th>param_l1_ratio</th>\n",
              "      <th>param_tol</th>\n",
              "      <th>params</th>\n",
              "      <th>split0_test_score</th>\n",
              "      <th>split1_test_score</th>\n",
              "      <th>split2_test_score</th>\n",
              "      <th>split3_test_score</th>\n",
              "      <th>split4_test_score</th>\n",
              "      <th>mean_test_score</th>\n",
              "      <th>std_test_score</th>\n",
              "      <th>rank_test_score</th>\n",
              "    </tr>\n",
              "  </thead>\n",
              "  <tbody>\n",
              "    <tr>\n",
              "      <th>2397</th>\n",
              "      <td>0.034389</td>\n",
              "      <td>0.005710</td>\n",
              "      <td>0.003026</td>\n",
              "      <td>0.000044</td>\n",
              "      <td>80</td>\n",
              "      <td>1.0</td>\n",
              "      <td>0.00001</td>\n",
              "      <td>{'alpha': 80, 'l1_ratio': 1.0, 'tol': 1e-05}</td>\n",
              "      <td>-24140.001408</td>\n",
              "      <td>-21453.953146</td>\n",
              "      <td>-26449.590340</td>\n",
              "      <td>-23769.287935</td>\n",
              "      <td>-24481.474810</td>\n",
              "      <td>-24058.861528</td>\n",
              "      <td>1598.134567</td>\n",
              "      <td>1</td>\n",
              "    </tr>\n",
              "    <tr>\n",
              "      <th>2427</th>\n",
              "      <td>0.033962</td>\n",
              "      <td>0.006963</td>\n",
              "      <td>0.002938</td>\n",
              "      <td>0.000045</td>\n",
              "      <td>81</td>\n",
              "      <td>1.0</td>\n",
              "      <td>0.00001</td>\n",
              "      <td>{'alpha': 81, 'l1_ratio': 1.0, 'tol': 1e-05}</td>\n",
              "      <td>-24140.060056</td>\n",
              "      <td>-21449.739734</td>\n",
              "      <td>-26452.537071</td>\n",
              "      <td>-23771.454734</td>\n",
              "      <td>-24480.545376</td>\n",
              "      <td>-24058.867394</td>\n",
              "      <td>1600.263245</td>\n",
              "      <td>2</td>\n",
              "    </tr>\n",
              "    <tr>\n",
              "      <th>2367</th>\n",
              "      <td>0.034408</td>\n",
              "      <td>0.005821</td>\n",
              "      <td>0.004221</td>\n",
              "      <td>0.002423</td>\n",
              "      <td>79</td>\n",
              "      <td>1.0</td>\n",
              "      <td>0.00001</td>\n",
              "      <td>{'alpha': 79, 'l1_ratio': 1.0, 'tol': 1e-05}</td>\n",
              "      <td>-24139.953798</td>\n",
              "      <td>-21458.186016</td>\n",
              "      <td>-26446.654861</td>\n",
              "      <td>-23767.132426</td>\n",
              "      <td>-24482.416421</td>\n",
              "      <td>-24058.868704</td>\n",
              "      <td>1596.004429</td>\n",
              "      <td>3</td>\n",
              "    </tr>\n",
              "    <tr>\n",
              "      <th>2337</th>\n",
              "      <td>0.035204</td>\n",
              "      <td>0.005989</td>\n",
              "      <td>0.003015</td>\n",
              "      <td>0.000046</td>\n",
              "      <td>78</td>\n",
              "      <td>1.0</td>\n",
              "      <td>0.00001</td>\n",
              "      <td>{'alpha': 78, 'l1_ratio': 1.0, 'tol': 1e-05}</td>\n",
              "      <td>-24139.816191</td>\n",
              "      <td>-21462.441217</td>\n",
              "      <td>-26443.730680</td>\n",
              "      <td>-23764.987316</td>\n",
              "      <td>-24483.372200</td>\n",
              "      <td>-24058.869520</td>\n",
              "      <td>1593.871032</td>\n",
              "      <td>4</td>\n",
              "    </tr>\n",
              "    <tr>\n",
              "      <th>2307</th>\n",
              "      <td>0.035668</td>\n",
              "      <td>0.005954</td>\n",
              "      <td>0.004401</td>\n",
              "      <td>0.002707</td>\n",
              "      <td>77</td>\n",
              "      <td>1.0</td>\n",
              "      <td>0.00001</td>\n",
              "      <td>{'alpha': 77, 'l1_ratio': 1.0, 'tol': 1e-05}</td>\n",
              "      <td>-24139.669518</td>\n",
              "      <td>-21466.716390</td>\n",
              "      <td>-26440.806059</td>\n",
              "      <td>-23762.853723</td>\n",
              "      <td>-24484.341865</td>\n",
              "      <td>-24058.877511</td>\n",
              "      <td>1591.732404</td>\n",
              "      <td>5</td>\n",
              "    </tr>\n",
              "  </tbody>\n",
              "</table>\n",
              "</div>\n",
              "      <button class=\"colab-df-convert\" onclick=\"convertToInteractive('df-25f13f71-8785-473d-896e-00862e6042e3')\"\n",
              "              title=\"Convert this dataframe to an interactive table.\"\n",
              "              style=\"display:none;\">\n",
              "        \n",
              "  <svg xmlns=\"http://www.w3.org/2000/svg\" height=\"24px\"viewBox=\"0 0 24 24\"\n",
              "       width=\"24px\">\n",
              "    <path d=\"M0 0h24v24H0V0z\" fill=\"none\"/>\n",
              "    <path d=\"M18.56 5.44l.94 2.06.94-2.06 2.06-.94-2.06-.94-.94-2.06-.94 2.06-2.06.94zm-11 1L8.5 8.5l.94-2.06 2.06-.94-2.06-.94L8.5 2.5l-.94 2.06-2.06.94zm10 10l.94 2.06.94-2.06 2.06-.94-2.06-.94-.94-2.06-.94 2.06-2.06.94z\"/><path d=\"M17.41 7.96l-1.37-1.37c-.4-.4-.92-.59-1.43-.59-.52 0-1.04.2-1.43.59L10.3 9.45l-7.72 7.72c-.78.78-.78 2.05 0 2.83L4 21.41c.39.39.9.59 1.41.59.51 0 1.02-.2 1.41-.59l7.78-7.78 2.81-2.81c.8-.78.8-2.07 0-2.86zM5.41 20L4 18.59l7.72-7.72 1.47 1.35L5.41 20z\"/>\n",
              "  </svg>\n",
              "      </button>\n",
              "      \n",
              "  <style>\n",
              "    .colab-df-container {\n",
              "      display:flex;\n",
              "      flex-wrap:wrap;\n",
              "      gap: 12px;\n",
              "    }\n",
              "\n",
              "    .colab-df-convert {\n",
              "      background-color: #E8F0FE;\n",
              "      border: none;\n",
              "      border-radius: 50%;\n",
              "      cursor: pointer;\n",
              "      display: none;\n",
              "      fill: #1967D2;\n",
              "      height: 32px;\n",
              "      padding: 0 0 0 0;\n",
              "      width: 32px;\n",
              "    }\n",
              "\n",
              "    .colab-df-convert:hover {\n",
              "      background-color: #E2EBFA;\n",
              "      box-shadow: 0px 1px 2px rgba(60, 64, 67, 0.3), 0px 1px 3px 1px rgba(60, 64, 67, 0.15);\n",
              "      fill: #174EA6;\n",
              "    }\n",
              "\n",
              "    [theme=dark] .colab-df-convert {\n",
              "      background-color: #3B4455;\n",
              "      fill: #D2E3FC;\n",
              "    }\n",
              "\n",
              "    [theme=dark] .colab-df-convert:hover {\n",
              "      background-color: #434B5C;\n",
              "      box-shadow: 0px 1px 3px 1px rgba(0, 0, 0, 0.15);\n",
              "      filter: drop-shadow(0px 1px 2px rgba(0, 0, 0, 0.3));\n",
              "      fill: #FFFFFF;\n",
              "    }\n",
              "  </style>\n",
              "\n",
              "      <script>\n",
              "        const buttonEl =\n",
              "          document.querySelector('#df-25f13f71-8785-473d-896e-00862e6042e3 button.colab-df-convert');\n",
              "        buttonEl.style.display =\n",
              "          google.colab.kernel.accessAllowed ? 'block' : 'none';\n",
              "\n",
              "        async function convertToInteractive(key) {\n",
              "          const element = document.querySelector('#df-25f13f71-8785-473d-896e-00862e6042e3');\n",
              "          const dataTable =\n",
              "            await google.colab.kernel.invokeFunction('convertToInteractive',\n",
              "                                                     [key], {});\n",
              "          if (!dataTable) return;\n",
              "\n",
              "          const docLinkHtml = 'Like what you see? Visit the ' +\n",
              "            '<a target=\"_blank\" href=https://colab.research.google.com/notebooks/data_table.ipynb>data table notebook</a>'\n",
              "            + ' to learn more about interactive tables.';\n",
              "          element.innerHTML = '';\n",
              "          dataTable['output_type'] = 'display_data';\n",
              "          await google.colab.output.renderOutput(dataTable, element);\n",
              "          const docLink = document.createElement('div');\n",
              "          docLink.innerHTML = docLinkHtml;\n",
              "          element.appendChild(docLink);\n",
              "        }\n",
              "      </script>\n",
              "    </div>\n",
              "  </div>\n",
              "  "
            ]
          },
          "metadata": {},
          "execution_count": 56
        },
        {
          "output_type": "stream",
          "name": "stdout",
          "text": [
            "Train R2: 0.9055421018298501\n",
            "Train RMSE: 22751.6605512765\n",
            "Test R2: 0.9148881692752514\n",
            "Test RMSE: 24054.315869054517\n"
          ]
        }
      ]
    },
    {
      "cell_type": "markdown",
      "source": [
        "# Forward Stepwise Selection"
      ],
      "metadata": {
        "id": "PxqyWY2kFx4R"
      }
    },
    {
      "cell_type": "code",
      "source": [
        "# create forward stepwise selection function to take a model, input/features (X)\n",
        "# data, and output (y) data and perform feature selection based on minimum\n",
        "# calculated test RMSE\n",
        "def forward_step_sel(model, X, y):\n",
        "  X2_train, X2_test, y_train, y_test = train_test_split(X, y, test_size = 0.2)\n",
        "  features = []\n",
        "  rmses = []\n",
        "  for k in range(1, len(list(X.columns)) + 1):\n",
        "    min_rmse = max(y)\n",
        "    for column_name in X.columns:\n",
        "      if column_name not in features:\n",
        "        X_temp = X[features + [column_name]]\n",
        "        model = model.fit(X_temp, y)\n",
        "        y_test_pred = model.predict(X2_test[list(X_temp.columns)])\n",
        "        test_rmse = sklearn.metrics.mean_squared_error(y_test, y_test_pred, squared = False)\n",
        "        if test_rmse < min_rmse:\n",
        "          min_rmse = test_rmse\n",
        "          best_feature = column_name\n",
        "    features.append(best_feature)\n",
        "    rmses.append(min_rmse)\n",
        "  best_rmse = min(rmses)\n",
        "  best_features = features[: rmses.index(min(rmses)) + 1]\n",
        "  # display minimum RMSE generated and the corresponding features\n",
        "  print(f'The best RMSE is {best_rmse}, generated using the following {len(best_features)} features:\\n{best_features}')\n",
        "  # plot RMSE vs Number of Features\n",
        "  sns.lineplot(x = range(1, len(list(X.columns)) + 1), y = rmses)\n",
        "  plt.ylim(min(rmses), max(rmses))\n",
        "  return best_rmse, best_features\n",
        "\n",
        "enet_rmse, enet_features = forward_step_sel(ElasticNet(l1_ratio = 1, alpha = 74), X, y)"
      ],
      "metadata": {
        "id": "zOrx20dgF7_Y",
        "colab": {
          "base_uri": "https://localhost:8080/",
          "height": 320
        },
        "outputId": "909c058d-fd95-4937-ae4b-166dfb9bea5d"
      },
      "execution_count": 57,
      "outputs": [
        {
          "output_type": "stream",
          "name": "stdout",
          "text": [
            "The best RMSE is 22590.837330948503, generated using the following 34 features:\n",
            "['AreaQual', 'BsmtUnfSF', 'YearRemodAdd', 'EnclosedPorch', 'OverallQual', 'KitchenAbvGr', 'BsmtFinSF2', 'Fireplaces', 'AreaSum', 'HalfBath', 'OverallCond', 'building_age', 'LotArea', 'TotRmsAbvGrd', 'BedroomAbvGr', 'LowQualFinSF', 'GarageArea', 'OpenPorchSF', 'MSSubClass', 'WoodDeckSF', 'BsmtHalfBath', 'TotalBsmtSF', 'BsmtFullBath', '3SsnPorch', 'FullBath', 'GarageYrBlt', 'GarageCars', 'MiscVal', 'BsmtFinSF1', 'MasVnrArea', 'YrSold', 'time_since_remod', 'PoolArea', 'ScreenPorch']\n"
          ]
        },
        {
          "output_type": "display_data",
          "data": {
            "text/plain": [
              "<Figure size 432x288 with 1 Axes>"
            ],
            "image/png": "[encoded data removed]"
          },
          "metadata": {
            "needs_background": "light"
          }
        }
      ]
    },
    {
      "cell_type": "markdown",
      "source": [
        "# Additional Considerations"
      ],
      "metadata": {
        "id": "uC_xiM8wVLt6"
      }
    },
    {
      "cell_type": "code",
      "source": [],
      "metadata": {
        "id": "_eqepO2-VTQW"
      },
      "execution_count": null,
      "outputs": []
    },
    {
      "cell_type": "markdown",
      "source": [
        "##### Dr. Chaturvedi's suggestions from Week 1:\n",
        "\n",
        "1. Please note the definition of “outliers” depends on context, type of model being built – supervised or unsupervised. Outlier to one model can be an inlier to another model.  \n",
        "  \n",
        "  \n",
        "2. Missing Data – this is another important topic. It needs some judgement for sure. Again – context is the key. Sometimes it is appropriate to ignore missing values, sometimes it is okay to fill in. A lot of care must be administered. If the data are missing at random, then missing values can be imputed using predictive models. If not – then imputation is questionable."
      ],
      "metadata": {
        "id": "X9uXIcs97E1P"
      }
    },
    {
      "cell_type": "markdown",
      "source": [
        "##### Module 2 Assignment Instructions\n",
        "[1. Conduct your analysis using a cross-validation design.](#q1)  \n",
        "[2. Conduct EDA and provide appropriate visualizations in the process.](#q2)  \n",
        "[3. Build a minimum of two separate regression models using the training set.](#q3)  \n",
        "[4. Evaluate polynomial, indicator, dichotomous, & piecewise model components.](#q4)  \n",
        "[5. Create at least one feature from the data set.](#q5)  \n",
        "[6. Evaluate the models’ assumptions.](#q6)  \n",
        "[7. Evaluate goodness of fit metrics on the training and validation sets.](#q7)  \n",
        "[8. Submit predictions for the unseen test set available on Kaggle.com.](#q8)  \n",
        "[9. Provide your Kaggle user name and a screen snapshot of your Kaggle scores.](#q9)  \n",
        "[10. Discuss what your models tell you in layman’s terms](#q10)  "
      ],
      "metadata": {
        "id": "etpG3j4F7E1P"
      }
    },
    {
      "cell_type": "markdown",
      "source": [
        "### Select (1) train.csv, (2) test.csv, and (3) data_descriptions.txt\n",
        "##### Note: if running locally, you will be prompted 3 times (can't select multiple files)"
      ],
      "metadata": {
        "id": "HKx-IeSW7E1Q"
      }
    },
    {
      "cell_type": "code",
      "source": [
        "import pandas as pd\n",
        "import seaborn as sns\n",
        "import matplotlib.pyplot as plt\n",
        "import numpy as np\n",
        "import io\n",
        "\n",
        "from sklearn.linear_model import LinearRegression\n",
        "from sklearn.model_selection import cross_val_score\n",
        "from sklearn.model_selection import KFold\n",
        "from sklearn import preprocessing\n",
        "from sklearn.ensemble import GradientBoostingRegressor\n",
        "from sklearn.model_selection import RepeatedKFold\n",
        "from sklearn.preprocessing import MinMaxScaler\n",
        "from sklearn.preprocessing import StandardScaler\n",
        "from sklearn.model_selection import train_test_split\n",
        "from sklearn.decomposition import PCA\n",
        "\n",
        "from numpy import std\n",
        "from numpy import mean\n",
        "from numpy import absolute\n",
        "from numpy import sqrt\n",
        "\n",
        "uploaded = files.upload()\n",
        "train_init = pd.read_csv(io.BytesIO(uploaded['train.csv']))\n",
        "train = train_init.copy()\n",
        "test = pd.read_csv(io.BytesIO(uploaded['test.csv']))\n",
        "data_desc_file = uploaded['data_description.txt']\n",
        "\n",
        "    \n",
        "import warnings\n",
        "warnings.filterwarnings('ignore')\n",
        "\n",
        "from scipy import stats\n",
        "\n",
        "sns.set_style('darkgrid')\n"
      ],
      "metadata": {
        "id": "zqAtfeTI7E1Q"
      },
      "execution_count": null,
      "outputs": []
    },
    {
      "cell_type": "code",
      "source": [
        "train = train_init.copy()"
      ],
      "metadata": {
        "id": "Fe--HISY7E1R"
      },
      "execution_count": null,
      "outputs": []
    },
    {
      "cell_type": "markdown",
      "source": [
        "<a name=\"q1\"></a>\n",
        "### Q1\n",
        "> 1. Conduct your analysis using a cross-validation design."
      ],
      "metadata": {
        "id": "9xpo5R-17E1R"
      }
    },
    {
      "cell_type": "markdown",
      "source": [
        "Below is a function that applies k-fold cross validation to a supplied set of training data & labels.  \n",
        "We will use it below during the model selection portion models."
      ],
      "metadata": {
        "id": "CEubTpMn7E1R"
      }
    },
    {
      "cell_type": "code",
      "source": [
        "from sklearn.model_selection import cross_val_score\n",
        "\n",
        "def rmse_cross_val(model_name, current_model, X_array, y_series):\n",
        "    \n",
        "    # kfold_arg = KFold(n_splits=5, random_state=24, shuffle=True)\n",
        "    \n",
        "    rmse = sqrt(-cross_val_score(current_model, \n",
        "                                X = X_array, \n",
        "                                y = y_series, \n",
        "                                scoring=\"neg_mean_squared_error\", \n",
        "                                cv = 5, \n",
        "                                error_score='raise',\n",
        "                                n_jobs=-1,\n",
        "                                 \n",
        "                               )\n",
        "               )\n",
        "    \n",
        "    print(f'Mean of Cross Validation RMSEs for {model_name} = {mean(rmse)}')\n",
        "    print(f'StDev of Cross Validation RMSEs for {model_name} = {std(rmse)}')\n",
        "    \n",
        "    return (model_name, rmse, mean(rmse), std(rmse))"
      ],
      "metadata": {
        "id": "dLigpOm87E1R"
      },
      "execution_count": null,
      "outputs": []
    },
    {
      "cell_type": "markdown",
      "source": [
        "<a name=\"q2\"></a>\n",
        "## Q2\n",
        "> Conduct EDA and provide appropriate visualizations in the process"
      ],
      "metadata": {
        "id": "dDldYTef7E1S"
      }
    },
    {
      "cell_type": "markdown",
      "source": [
        "We conducted a fairly thorough EDA during the Module 1 portion of this assignment, which we won't rehash here to avoid repitition.  However, we did further exploratory analysis of the dataset this week that produced some insights that were not included previously.  We've included these here:"
      ],
      "metadata": {
        "id": "viUK1oZX7E1S"
      }
    },
    {
      "cell_type": "markdown",
      "source": [
        "**Log-transformation of target**  \n",
        "\n",
        "Last week we noted that the target variable's marginal distribution exhibits right (positive) skew and is leptokurtic:"
      ],
      "metadata": {
        "id": "M774XNsd7E1S"
      }
    },
    {
      "cell_type": "code",
      "source": [
        "print(f'Target\\'s skewness: {round(train.SalePrice.skew(),3)}')\n",
        "print(f'Target\\'s kurtosis: {round(train.SalePrice.kurt(),3)}')\n",
        "\n",
        "plt.figure(figsize=(12, 5))\n",
        "\n",
        "plt.subplot(121)\n",
        "sns.distplot(train.SalePrice)\n",
        "plt.title('SalePrice histogram & KDE')\n",
        "\n",
        "plt.subplot(122)\n",
        "stats.probplot(train.SalePrice, plot=plt)\n",
        "plt.title('QQ plot of SalePrice')\n",
        "plt.show();"
      ],
      "metadata": {
        "id": "2hQPWm-S7E1T"
      },
      "execution_count": null,
      "outputs": []
    },
    {
      "cell_type": "markdown",
      "source": [
        "Applying a log-transform to the target (or, similarly, numpy's log+1 function) implies that the target appears to be lognormally distributed:"
      ],
      "metadata": {
        "id": "UeSKyqIy7E1T"
      }
    },
    {
      "cell_type": "code",
      "source": [
        "log_target = np.log(train.SalePrice)\n",
        "\n",
        "print(f'log_target\\'s skewness: {round(log_target.skew(),3)}')\n",
        "print(f'log_target\\'s kurtosis: {round(log_target.kurt(),3)}')\n",
        "\n",
        "plt.figure(figsize=(12, 5))\n",
        "\n",
        "plt.subplot(121)\n",
        "sns.distplot(log_target)\n",
        "plt.title('SalePrice histogram & KDE of log(target)')\n",
        "\n",
        "plt.subplot(122)\n",
        "stats.probplot(log_target, plot=plt)\n",
        "plt.title('QQ plot of log(target)')\n",
        "plt.show();"
      ],
      "metadata": {
        "id": "cSAuc4GG7E1T"
      },
      "execution_count": null,
      "outputs": []
    },
    {
      "cell_type": "markdown",
      "source": [
        "In the model selection section below, we'll address further whether or not modelling with this transformation seems to generate more accuracy."
      ],
      "metadata": {
        "id": "Ef6VKUK17E1T"
      }
    },
    {
      "cell_type": "code",
      "source": [
        "# Separate features from target before moving forward\n",
        "target = train['SalePrice'].reset_index(drop=True)\n",
        "train = train.loc[:, train.columns != 'SalePrice']\n",
        "print(train.shape)\n",
        "print(test.shape)\n",
        "all_features = pd.concat([train, test]).reset_index(drop=True)\n",
        "print(all_features.shape)"
      ],
      "metadata": {
        "id": "NWx9WLdr7E1U"
      },
      "execution_count": null,
      "outputs": []
    },
    {
      "cell_type": "code",
      "source": [
        "# Apply data transformations to both test and train predictors\n",
        "# We'll fit to the training set only and then test vs the test set only\n",
        "train = all_features"
      ],
      "metadata": {
        "id": "ev7TlBkJ7E1U"
      },
      "execution_count": null,
      "outputs": []
    },
    {
      "cell_type": "markdown",
      "source": [
        "**Missing Values Deep Dive**  \n",
        "\n",
        "Last week [we discussed](#catmissing) that the null values in the training set's categorical feature columns appear to be due to the given house not having the element (e.g. a pool) that the feature refers to (e.g. the pool quality feature).  In other words, it is not dirty data.  \n",
        "  \n",
        "We noted that, since many of the features are categorical, imputing appropriate values for these null values could provide informative value to the model.  \n",
        "  \n",
        "The below code leverages the structure of the provided *data_descriptions.txt* file to fill these categorical nulls appropriately.  We've provided a dataframe showing the replacement values for each feature:"
      ],
      "metadata": {
        "id": "CFvopaib7E1V"
      }
    },
    {
      "cell_type": "code",
      "source": [
        "# Read in the raw data descriptions text file into a list\n",
        "try:\n",
        "    with open('data_description.txt') as f:\n",
        "        lines = f.readlines()\n",
        "except:\n",
        "    with open(data_desc_file) as f:\n",
        "        lines = f.readlines()\n",
        "\n",
        "# Extract the feature descriptions into a dict\n",
        "feature_desc_dict = {}\n",
        "for line in lines:\n",
        "    if not line.startswith(('\\n', '\\t', ' ')):\n",
        "        cur_feature = line.split(': ')[0]\n",
        "        cur_feature_desc = []\n",
        "        feature_desc_dict[cur_feature] = line.split(': ')[1].replace('\\n',  '').replace('\\t',  '')\n",
        "\n",
        "# Extract the categorical variable levels into a second dict\n",
        "feature_options_dict = {}\n",
        "for line_idx, line in enumerate(lines):\n",
        "    if not line.startswith(('\\n', '\\t', ' ')):\n",
        "        cur_feature = line.split(': ')[0]\n",
        "        feature_options_dict[cur_feature] = []\n",
        "    elif line.startswith(' ') and line.strip()!='':\n",
        "        feature_options_dict[cur_feature].append(\" \".join(line.strip().split()[1:]))\n",
        "\n",
        "# Create a new df to display the contents of the created dicts for features with >0 nulls\n",
        "missing_data_df = train.select_dtypes(include=['object']).isnull().sum().to_frame()\n",
        "missing_data_df.columns = ['Num_Missing']\n",
        "missing_data_df = missing_data_df.loc[missing_data_df.Num_Missing > 0, :].sort_values('Num_Missing', ascending=False)\n",
        "missing_data_df['Feature_Desc'] = ''\n",
        "missing_data_df['Feature_Desc'] = missing_data_df.index.map(feature_desc_dict)\n",
        "missing_data_df['Feature_Cats'] = ''\n",
        "missing_data_df['Feature_Cats'] = missing_data_df.index.map(feature_options_dict)\n",
        "\n",
        "# For categorical variables with nulls, return the last category level option provided in the file as the filler value\n",
        "def get_last_value(cat_list):\n",
        "    if cat_list:\n",
        "        \n",
        "        # MasVnrType is the only feature not to fit the pattern...handled with if-statement\n",
        "        if 'None' in cat_list:\n",
        "            cat_list.append(cat_list.pop(cat_list.index('None')))\n",
        "        return cat_list[-1]\n",
        "    else:\n",
        "        return np.nan\n",
        "\n",
        "missing_data_df['Missing_Value_Filler'] = missing_data_df.apply(lambda x: get_last_value(x['Feature_Cats']), axis=1)\n",
        "\n",
        "cat_null_filler_dict = dict(zip(missing_data_df.index, missing_data_df.Missing_Value_Filler.values))\n",
        "train.fillna(value=cat_null_filler_dict, inplace=True)\n",
        "\n",
        "pd.options.display.max_colwidth = 200\n",
        "missing_data_df"
      ],
      "metadata": {
        "id": "qETNParn7E1V"
      },
      "execution_count": null,
      "outputs": []
    },
    {
      "cell_type": "markdown",
      "source": [
        "We'll also apply [the treatment described last week](#numnull) to the numeric columns with missing values:"
      ],
      "metadata": {
        "id": "OwdbCxrj7E1V"
      }
    },
    {
      "cell_type": "code",
      "source": [
        "train['GarageYrBlt'].fillna(train['YearBuilt'], inplace=True)\n",
        "train.drop(['Id','LotFrontage'], axis=1, inplace=True)\n",
        "train['MasVnrArea'].fillna(train['MasVnrArea'].mean(), inplace=True)\n",
        "\n",
        "# A few numerics still missing\n",
        "for i in train.columns[train.isnull().any(axis=0)]:\n",
        "    train[i].fillna(train[i].median(),inplace=True)\n",
        "\n",
        "#Check\n",
        "print(f'{train.isnull().sum().max()} columns with null values remain')"
      ],
      "metadata": {
        "id": "JMts-tTy7E1W"
      },
      "execution_count": null,
      "outputs": []
    },
    {
      "cell_type": "markdown",
      "source": [
        "**Predictor skewness correction**  \n",
        "\n",
        "Last week we noticed severe skewness in a large number of the predictor variables as well:"
      ],
      "metadata": {
        "id": "istHJuj47E1W"
      }
    },
    {
      "cell_type": "code",
      "source": [
        "feature_skew_df = train.select_dtypes(include=[np.number]).skew().to_frame(name='skewness').reset_index(drop=False)\n",
        "feature_skew_df.rename({'index':'feature'}, axis=1, inplace=True)\n",
        "feature_skew_df.sort_values('skewness', ascending=False, inplace=True)\n",
        "feature_skew_df.reset_index(drop=True, inplace=True)\n",
        "feature_skew_df.head(20)"
      ],
      "metadata": {
        "id": "5bjez61t7E1W"
      },
      "execution_count": null,
      "outputs": []
    },
    {
      "cell_type": "code",
      "source": [
        "skewed = feature_skew_df.loc[(feature_skew_df.skewness > .9) & (feature_skew_df.skewness < 4), 'feature'].tolist()\n",
        "severely_skewed = feature_skew_df.loc[(feature_skew_df.skewness >= 4), 'feature'].tolist()\n",
        "\n",
        "not_skewed = [feat for feat in feature_skew_df.feature.tolist() if (feat not in skewed) and (feat not in severely_skewed)]\n",
        "\n",
        "from scipy.special import boxcox1p\n",
        "lam = 0.15\n",
        "for feat in severely_skewed:\n",
        "    train[feat] = boxcox1p(train[feat], lam)\n",
        "    \n",
        "for feat in skewed:\n",
        "    train[feat] = np.log1p(train[feat])\n",
        "    \n",
        "# Apply StandardScaler to the remaining features (since it's more robust to outliers than other scalers):\n",
        "sc = preprocessing.StandardScaler()\n",
        "train[not_skewed] = sc.fit_transform(train[not_skewed])"
      ],
      "metadata": {
        "id": "5jWNBfGU7E1X"
      },
      "execution_count": null,
      "outputs": []
    },
    {
      "cell_type": "markdown",
      "source": [
        "**Categorical Encoding**  \n",
        "\n",
        "Seeing as we're performing regression, we'll need to work with numeric features.  Last week [we demonstrated](#likert) how categorical features could be encoded to numeric values.  We initially tried applying one-hot encoding to the nominal categorical variables and sklearn's OrdinalEncoder to the ordinal ones, but this caused issues (likely due to correlations between category levels), so we'll use OrdinalEncoder for all ordinal categorical variables (which, presumably, provide more information) and drop all the nominal categorical variables.  Doing this resulted in meaningful model performance increase vs. using only numeric columns."
      ],
      "metadata": {
        "id": "wBCQxWB37E1X"
      }
    },
    {
      "cell_type": "code",
      "source": [
        "from sklearn.preprocessing import OrdinalEncoder#, OneHotEncoder\n",
        "# cat_nominal_feats = ['MSZoning','Heating','CentralAir','GarageType','Fence','MiscFeature','Condition2','Alley','Neighborhood','Condition1','Foundation','RoofStyle','Exterior1st','Exterior2nd','MasVnrType','SaleCondition']\n",
        "cat_ordinal_feats = ['FireplaceQu','BsmtFinType1','BsmtFinType2','HeatingQC','Electrical','KitchenQual','Functional','BsmtCond','GarageFinish','GarageQual','GarageCond','PavedDrive','PoolQC','SaleType','BsmtExposure','BsmtQual','Street','LotShape','LandContour','Utilities','LotConfig','LandSlope','BldgType','HouseStyle','RoofMatl','ExterQual','ExterCond']\n",
        "\n",
        "ordnl = OrdinalEncoder()\n",
        "train[cat_ordinal_feats] = ordnl.fit_transform(train[cat_ordinal_feats])\n",
        "\n",
        "train = train.select_dtypes(include=[np.number])"
      ],
      "metadata": {
        "id": "qNDoh8h17E1X"
      },
      "execution_count": null,
      "outputs": []
    },
    {
      "cell_type": "markdown",
      "source": [
        "<a name=\"q3\"></a>\n",
        "## Q3\n",
        "> 3. Build a minimum of two separate regression models using the training set"
      ],
      "metadata": {
        "id": "nRyOv-3V7E1Y"
      }
    },
    {
      "cell_type": "markdown",
      "source": [
        "Now that data transformations have been applied, we'll recreate the original training and test sets.  We'll fit only on the training data (row indices have been preserved)."
      ],
      "metadata": {
        "id": "hv9IwWXb7E1Y"
      }
    },
    {
      "cell_type": "code",
      "source": [
        "X = train.iloc[:len(target), :] # training data only (no target)\n",
        "y = target # training data target\n",
        "X_test = train.iloc[len(target):, :] # test data only (predictors only...not used to fit models)\n",
        "X.shape, target.shape, X_test.shape"
      ],
      "metadata": {
        "id": "H5jTTG8i7E1Y"
      },
      "execution_count": null,
      "outputs": []
    },
    {
      "cell_type": "code",
      "source": [
        "# Collect metrics of each regression model for performance comparison\n",
        "model_data = []"
      ],
      "metadata": {
        "id": "6Bf6-8Ns7E1Y"
      },
      "execution_count": null,
      "outputs": []
    },
    {
      "cell_type": "code",
      "source": [
        "from sklearn.pipeline import Pipeline\n",
        "from sklearn.compose import TransformedTargetRegressor\n",
        "\n",
        "from sklearn.linear_model import LassoCV, RidgeCV, LinearRegression\n",
        "from sklearn.pipeline import make_pipeline\n",
        "from sklearn.preprocessing import RobustScaler\n",
        "# from sklearn.kernel_ridge import KernelRidge\n",
        "from sklearn.linear_model import ElasticNet\n",
        "\n",
        "# MODEL 1: lin_reg_rawtarget\n",
        "# lin_reg_raw_model = LinearRegression()\n",
        "# lin_reg_raw_cv_score = rmse_cross_val(\"lin_reg_raw\", lin_reg_raw_model, X, y )\n",
        "# model_data.append([lin_reg_raw_cv_score[i] for i in [0, 2, 3]])\n",
        "\n",
        "\n",
        "# MODEL 2: lin_reg_logtarget\n",
        "lin_reg_logtarget_model = Pipeline([  ('ttr', TransformedTargetRegressor(regressor=LinearRegression(), func = np.log1p, inverse_func = np.expm1))  ])\n",
        "lin_reg_logtarget_cv_score = rmse_cross_val(\"lin_reg_logtarget\", lin_reg_logtarget_model, X, y )\n",
        "model_data.append([lin_reg_logtarget_cv_score[i] for i in [0, 2, 3]])\n",
        "\n",
        "\n",
        "# MODEL 3: gboosted_rawtarget\n",
        "gboosted_raw_model = GradientBoostingRegressor()\n",
        "gboosted_raw_cv_score = rmse_cross_val(\"gboosted_raw\", gboosted_raw_model, X, y)\n",
        "model_data.append([gboosted_raw_cv_score[i] for i in [0, 2, 3]])\n",
        "\n",
        "\n",
        "# MODEL 4: gboosted_logtarget\n",
        "gboosted_logtarget_model = Pipeline([  ('ttr', TransformedTargetRegressor(regressor=GradientBoostingRegressor(), func = np.log1p, inverse_func = np.expm1))  ])\n",
        "gboosted_logtarget_cv_score = rmse_cross_val(\"gboosted_logtarget\", gboosted_logtarget_model, X, y)\n",
        "model_data.append([gboosted_logtarget_cv_score[i] for i in [0, 2, 3]])\n",
        "\n",
        "lasso_alphas = [1, 0.1, 0.001, 0.0005]\n",
        "\n",
        "# MODEL 5: lasso_rawtarget\n",
        "lasso_raw_model = make_pipeline(RobustScaler(), LassoCV(alphas=lasso_alphas))\n",
        "lasso_raw_cv_score = rmse_cross_val(\"lasso_raw\", lasso_raw_model, X, y)\n",
        "model_data.append([lasso_raw_cv_score[i] for i in [0, 2, 3]])\n",
        "\n",
        "\n",
        "# MODEL 6: lasso_logtarget\n",
        "lasso_logtarget_model = Pipeline([  ('ttr', TransformedTargetRegressor(regressor=LassoCV(alphas=lasso_alphas), func = np.log1p, inverse_func = np.expm1))  ])\n",
        "lasso_logtarget_cv_score = rmse_cross_val(\"lasso_logtarget\", lasso_logtarget_model, X, y)\n",
        "model_data.append([lasso_logtarget_cv_score[i] for i in [0, 2, 3]])\n",
        "\n",
        "\n",
        "# MODEL 7: enet_rawtarget\n",
        "enet_raw_model = make_pipeline(RobustScaler(), ElasticNet(alpha=0.0005, l1_ratio=.9))\n",
        "enet_raw_cv_score = rmse_cross_val(\"enet_raw\", enet_raw_model, X, y)\n",
        "model_data.append([enet_raw_cv_score[i] for i in [0, 2, 3]])\n",
        "\n",
        "\n",
        "# MODEL 8: enet_logtarget\n",
        "enet_logtarget_model = Pipeline([    ('ttr', TransformedTargetRegressor(regressor=ElasticNet(alpha=0.0005, l1_ratio=.9), func = np.log1p, inverse_func = np.expm1))  ])\n",
        "enet_logtarget_cv_score = rmse_cross_val(\"enet_logtarget\", enet_logtarget_model, X, y)\n",
        "model_data.append([enet_logtarget_cv_score[i] for i in [0, 2, 3]])\n",
        "\n",
        "ridge_alphas = [1e-15, 1e-10, 1e-5, 0.1, 0.5, 1, 5, 10, 15, 20, 30, 50, 75, 100]\n",
        "\n",
        "# MODEL 9: ridge_rawtarget\n",
        "lasso_raw_model = make_pipeline(RobustScaler(), RidgeCV(alphas=ridge_alphas))\n",
        "lasso_raw_cv_score = rmse_cross_val(\"lasso_raw\", lasso_raw_model, X, y)\n",
        "model_data.append([lasso_raw_cv_score[i] for i in [0, 2, 3]])\n",
        "\n",
        "\n",
        "# MODEL 10: ridge_logtarget\n",
        "lasso_logtarget_model = Pipeline([  ('ttr', TransformedTargetRegressor(regressor=RidgeCV(alphas=ridge_alphas), func = np.log1p, inverse_func = np.expm1))  ])\n",
        "lasso_logtarget_cv_score = rmse_cross_val(\"lasso_logtarget\", lasso_logtarget_model, X, y)\n",
        "model_data.append([lasso_logtarget_cv_score[i] for i in [0, 2, 3]])"
      ],
      "metadata": {
        "id": "TaPpsPAD7E1Y"
      },
      "execution_count": null,
      "outputs": []
    },
    {
      "cell_type": "markdown",
      "source": [
        "Error on Training Set (using cross validation):"
      ],
      "metadata": {
        "id": "EPa92P907E1Z"
      }
    },
    {
      "cell_type": "code",
      "source": [
        "model_df = pd.DataFrame(model_data, columns=['Model', 'Mean_CV_RMSE', 'Std_CV_RMSE'])\n",
        "model_df['Mean_CV_RMSE'] = model_df['Mean_CV_RMSE'].round(2)\n",
        "model_df['Std_CV_RMSE'] = model_df['Std_CV_RMSE'].round(2)\n",
        "model_df = model_df.sort_values('Mean_CV_RMSE')\n",
        "model_df.reset_index(drop=True, inplace=True)\n",
        "model_df"
      ],
      "metadata": {
        "id": "AeM3wCZ67E1Z"
      },
      "execution_count": null,
      "outputs": []
    },
    {
      "cell_type": "markdown",
      "source": [
        "Now we need to actually fit the models to the training set..."
      ],
      "metadata": {
        "id": "O0EV5mxl7E1a"
      }
    },
    {
      "cell_type": "code",
      "source": [
        "# lin_reg_raw_model_fulldata_fitted = lin_reg_raw_model.fit(X, target)\n",
        "lin_reg_logtarget_model_fulldata_fitted = lin_reg_logtarget_model.fit(X, target)\n",
        "gboosted_raw_model_fulldata_fitted = gboosted_raw_model.fit(X, target)\n",
        "gboosted_logtarget_model_fulldata_fitted = gboosted_logtarget_model.fit(X, target)\n",
        "lasso_raw_model_fulldata_fitted = lasso_raw_model.fit(X, target)\n",
        "lasso_logtarget_model_fulldata_fitted = lasso_logtarget_model.fit(X, target)\n",
        "enet_raw_model_fulldata_fitted = enet_raw_model.fit(X, target)\n",
        "enet_logtarget_model_fulldata_fitted = enet_logtarget_model.fit(X, target)\n",
        "lasso_raw_model_fulldata_fitted = lasso_raw_model.fit(X, target)\n",
        "lasso_logtarget_model_fulldata_fitted = lasso_logtarget_model.fit(X, target)"
      ],
      "metadata": {
        "id": "UCpQ_aGG7E1a"
      },
      "execution_count": null,
      "outputs": []
    },
    {
      "cell_type": "markdown",
      "source": [
        "Here's a simple combination of all the models:"
      ],
      "metadata": {
        "id": "pua8YNy17E1a"
      }
    },
    {
      "cell_type": "code",
      "source": [
        "from sklearn.metrics import mean_squared_error\n",
        "def rmse_func(y, y_pred):\n",
        "    return np.sqrt(mean_squared_error(y, y_pred))\n",
        "\n",
        "def blended_predictions(X_train):\n",
        "    return ( #(.1 * lin_reg_raw_model_fulldata_fitted.predict(X)) + \\\n",
        "    (.1 * lin_reg_logtarget_model_fulldata_fitted.predict(X)) + \\\n",
        "    (.1 * gboosted_raw_model_fulldata_fitted.predict(X)) + \\\n",
        "    (.1 * gboosted_logtarget_model_fulldata_fitted.predict(X)) + \\\n",
        "    (.1 * lasso_raw_model_fulldata_fitted.predict(X)) + \\\n",
        "    (.1 * lasso_logtarget_model_fulldata_fitted.predict(X)) + \\\n",
        "    (.1 * enet_raw_model_fulldata_fitted.predict(X)) + \\\n",
        "    (.1 * enet_logtarget_model_fulldata_fitted.predict(X)) + \\\n",
        "    (.1 * lasso_raw_model_fulldata_fitted.predict(X)) + \\\n",
        "    (.1 * lasso_logtarget_model_fulldata_fitted.predict(X)) )\n",
        "\n",
        "blended_score = rmse_func(target, blended_predictions(X))\n",
        "print(blended_score)"
      ],
      "metadata": {
        "id": "bAZX6sQ17E1a"
      },
      "execution_count": null,
      "outputs": []
    },
    {
      "cell_type": "code",
      "source": [
        "model_df.loc[len(model_df)] = ['Blend', round(blended_score, 2), np.nan]\n",
        "model_df = model_df.sort_values('Mean_CV_RMSE')\n",
        "model_df.reset_index(drop=True, inplace=True)\n",
        "model_df"
      ],
      "metadata": {
        "id": "zTXU4kVY7E1b"
      },
      "execution_count": null,
      "outputs": []
    },
    {
      "cell_type": "code",
      "source": [
        "plt.figure(figsize = (18,12))\n",
        "model_df.set_index('Model')['Mean_CV_RMSE'].plot()\n",
        "plt.title('Model Comparison')\n",
        "plt.show();"
      ],
      "metadata": {
        "id": "hbAa5Ere7E1b"
      },
      "execution_count": null,
      "outputs": []
    },
    {
      "cell_type": "markdown",
      "source": [
        "<a name=\"q4\"></a>\n",
        "## Q4\n",
        "> 4. Evaluate polynomial, indicator, dichotomous, & piecewise model components"
      ],
      "metadata": {
        "id": "qzLQzvk87E1b"
      }
    },
    {
      "cell_type": "code",
      "source": [
        "# polynomial regression with raw data\n",
        "from sklearn.preprocessing import PolynomialFeatures\n",
        "poly_reg_raw_model = make_pipeline(StandardScaler(), PolynomialFeatures(degree = 3), LinearRegression())\n",
        "poly_reg_raw_model.fit(X, target)\n",
        "poly_reg_raw_cv_score = rmse_cross_val(\"poly_reg_raw\", poly_reg_raw_model, X, target)\n",
        "\n",
        "# polynomial regression with log transformed data\n",
        "poly_reg_logtarget_model = Pipeline([('ttr', TransformedTargetRegressor(regressor = poly_reg_raw_model,\n",
        "                                                                        func = np.log1p,\n",
        "                                                                        inverse_func = np.expm1))])\n",
        "poly_reg_logtarget_model.fit(X, target)\n",
        "poly_reg_logtarget_cv_score = rmse_cross_val(\"poly_reg_logtarget\", poly_reg_logtarget_model, X, target)"
      ],
      "metadata": {
        "id": "jPx7JsVc7E1c"
      },
      "execution_count": null,
      "outputs": []
    },
    {
      "cell_type": "code",
      "source": [
        "# piecewise linear regression with raw data\n",
        "from mlinsights.mlmodel import PiecewiseRegressor\n",
        "from sklearn.tree import DecisionTreeRegressor\n",
        "piecewise_raw_model = PiecewiseRegressor(binner = DecisionTreeRegressor())\n",
        "piecewise_raw_model.fit(X, target)\n",
        "piecewise_raw_cv_score = rmse_cross_val(\"piecewise_raw\", piecewise_raw_model, X, target)\n",
        "\n",
        "# piecewise linear regression with log data\n",
        "piecewise_logtarget_model = Pipeline([('ttr', TransformedTargetRegressor(regressor = piecewise_raw_model,\n",
        "                                                                        func = np.log1p,\n",
        "                                                                        inverse_func = np.expm1))])\n",
        "piecewise_logtarget_model.fit(X, target)\n",
        "piecewise_logtarget_cv_score = rmse_cross_val(\"piecewise_logtarget\", piecewise_logtarget_model, X, target)"
      ],
      "metadata": {
        "id": "UUoNfqDQ64ZI"
      },
      "execution_count": null,
      "outputs": []
    }
  ]
}